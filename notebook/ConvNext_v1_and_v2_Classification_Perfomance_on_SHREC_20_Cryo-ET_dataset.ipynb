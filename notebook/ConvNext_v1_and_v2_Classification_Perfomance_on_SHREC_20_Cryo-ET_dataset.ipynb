{
  "cells": [
    {
      "cell_type": "markdown",
      "source": [
        "#Assessing ConvNeXt V1 and V2 for Protein Classification on the SHREC 2020 Cryo-Electron Tomography Dataset\n",
        "\n",
        "This notebook presents a comprehensive evaluation of the classification performance of pretrained **ConvNeXt V1** and **ConvNeXt V2** models on the **SHREC 2020 Cryo-Electron Tomography (Cryo-ET)** dataset—a challenging benchmark composed of simulated 3D tomograms annotated with 12 distinct macromolecular classes. Cryo-ET enables volumetric imaging of macromolecular complexes in near-native cellular environments but suffers from low signal-to-noise ratios and anisotropic resolution, necessitating the development of robust and scalable computational models for particle-level interpretation.\n",
        "\n",
        "To address this, I implement an end-to-end multi-class classification pipeline using ConvNeXt V1 and V2 architectures pretrained on ImageNet. Each protein particle is localized using provided coordinates and represented through a **tri-view approach**: three orthogonal slices (**XY, XZ, YZ**) extracted from a \\(48^3\\) voxel subtomogram centered on the particle. These slices are transformed using ImageNet-compatible preprocessing, normalized, and saved for efficient reuse during training and evaluation.\n",
        "\n",
        "The pipeline includes:\n",
        "\n",
        "- **Data preparation**: extraction of 2D views, normalization, and conversion to `.pt` files  \n",
        "- **Model adaptation**: replacing the original classification heads to support 12 output classes  \n",
        "- **Training strategy**: 80/20 split on tomograms 0–8 with weighted cross-entropy loss to mitigate class imbalance, mixed precision training for speed, and a gradual unfreezing schedule (unfreezing stage 3 after epoch 5)  \n",
        "- **Model selection**: early stopping and validation-based checkpointing  \n",
        "- **Inference**: ensemble decision from summed class probabilities across the three views  \n",
        "\n",
        "The test set (**tomogram 9**) is held out in accordance with SHREC 2020 protocol to ensure comparability with previously published methods. Final classification performance is measured using standard metrics: **accuracy, precision, recall, and F1-score**, with additional per-class analysis and confusion matrices provided.\n",
        "\n",
        "This notebook serves both as a **proof of concept** and a **reproducible framework** for evaluating ConvNeXt models in the domain of cryo-ET. It highlights the potential for **transfer learning** from natural images to structural biology and offers an adaptable template for future research in macromolecular classification tasks.\n"
      ],
      "metadata": {
        "id": "trcwWY4eDyKs"
      }
    },
    {
      "cell_type": "markdown",
      "source": [
        "## Installing Dependencies and Importing Libraries"
      ],
      "metadata": {
        "id": "tc5UZfC55erI"
      }
    },
    {
      "cell_type": "code",
      "execution_count": 1,
      "metadata": {
        "colab": {
          "base_uri": "https://localhost:8080/"
        },
        "id": "yIhRIAeitWHz",
        "outputId": "67baf931-3277-49c0-d7d0-11dff9c3c047"
      },
      "outputs": [
        {
          "output_type": "stream",
          "name": "stdout",
          "text": [
            "Collecting mrcfile\n",
            "  Downloading mrcfile-1.5.4-py2.py3-none-any.whl.metadata (7.0 kB)\n",
            "Requirement already satisfied: numpy>=1.16.0 in /usr/local/lib/python3.11/dist-packages (from mrcfile) (2.0.2)\n",
            "Downloading mrcfile-1.5.4-py2.py3-none-any.whl (45 kB)\n",
            "\u001b[2K   \u001b[90m━━━━━━━━━━━━━━━━━━━━━━━━━━━━━━━━━━━━━━━━\u001b[0m \u001b[32m45.0/45.0 kB\u001b[0m \u001b[31m1.1 MB/s\u001b[0m eta \u001b[36m0:00:00\u001b[0m\n",
            "\u001b[?25hInstalling collected packages: mrcfile\n",
            "Successfully installed mrcfile-1.5.4\n"
          ]
        }
      ],
      "source": [
        "!pip install mrcfile\n",
        "\n",
        "import os\n",
        "import csv\n",
        "import time\n",
        "import random\n",
        "import shutil\n",
        "from collections import Counter\n",
        "\n",
        "import numpy as np\n",
        "import pandas as pd\n",
        "\n",
        "import torch\n",
        "import torch.nn.functional as F\n",
        "from torch.utils.data import Dataset, DataLoader, random_split\n",
        "from torch.cuda.amp import autocast, GradScaler\n",
        "\n",
        "from PIL import Image\n",
        "from torchvision import transforms\n",
        "\n",
        "from sklearn.metrics import (\n",
        "    accuracy_score, precision_score, recall_score,\n",
        "    f1_score, classification_report, confusion_matrix, ConfusionMatrixDisplay\n",
        ")\n",
        "\n",
        "import matplotlib.pyplot as plt\n",
        "import seaborn as sns\n",
        "\n",
        "from tqdm import tqdm\n",
        "\n",
        "from google.colab import files, drive, auth\n",
        "from googleapiclient.discovery import build\n",
        "\n",
        "import mrcfile\n"
      ]
    },
    {
      "cell_type": "markdown",
      "source": [
        "## Accessing the data folder in Google Drive"
      ],
      "metadata": {
        "id": "f85T0D4ZuPkN"
      }
    },
    {
      "cell_type": "code",
      "execution_count": 2,
      "metadata": {
        "colab": {
          "base_uri": "https://localhost:8080/"
        },
        "id": "4ALZ8Vv8K7wE",
        "outputId": "dd43bf8c-ff80-4da9-a036-4a14547b4400"
      },
      "outputs": [
        {
          "output_type": "stream",
          "name": "stdout",
          "text": [
            "Mounted at /content/drive\n"
          ]
        }
      ],
      "source": [
        "# Mounting Google Drive to import the dataset\n",
        "\n",
        "from google.colab import drive\n",
        "\n",
        "drive.mount('/content/drive')"
      ]
    },
    {
      "cell_type": "code",
      "source": [
        "# Adding the data folder as a shortcut in 'My Drive' Folder to be accessable otherwise you can download the data and upload it to your own Google Drive account\n",
        "\n",
        "auth.authenticate_user()\n",
        "\n",
        "drive_service = build('drive', 'v3')\n",
        "\n",
        "# ID of the shared folder (Extracted from your link)\n",
        "shared_folder_id = \"1ROgxmjFOAZoFKB19cl94RgeFqtbcCfjz\"\n",
        "\n",
        "# ID of \"My Drive\" (root folder)\n",
        "my_drive_id = \"root\"\n",
        "\n",
        "# Create a shortcut\n",
        "shortcut_metadata = {\n",
        "    'name': 'SHREC_2020_CryoET_Dataset',\n",
        "    'mimeType': 'application/vnd.google-apps.shortcut',\n",
        "    'parents': [my_drive_id],\n",
        "    'shortcutDetails': {'targetId': shared_folder_id}\n",
        "}\n",
        "\n",
        "shortcut = drive_service.files().create(body=shortcut_metadata).execute()\n",
        "\n",
        "print(\"Shortcut created successfully!\")"
      ],
      "metadata": {
        "id": "0KbfG7pdt9_F"
      },
      "execution_count": null,
      "outputs": []
    },
    {
      "cell_type": "markdown",
      "source": [
        "## Defining some helper functions"
      ],
      "metadata": {
        "id": "NOGB-66-6htQ"
      }
    },
    {
      "cell_type": "code",
      "source": [
        "# -------- Paths --------\n",
        "dataset_path = \"/content/drive/MyDrive/SHREC2020/shrec2020_full_dataset\"\n",
        "tomogram_dirs = [os.path.join(dataset_path, f'model_{i}') for i in range(9)]\n",
        "save_root = '/content/drive/MyDrive/SHREC2020/slice_dataset'\n",
        "csv_output_path = '/content/drive/MyDrive/SHREC2020/slice_triplets.csv'\n",
        "os.makedirs(save_root, exist_ok=True)\n",
        "\n",
        "# Path to the test tomogram and particle locations file:\n",
        "model9_dir = os.path.join(dataset_path, f'model_9')\n",
        "mrc_path = os.path.join(model9_dir, 'grandmodel.mrc')\n",
        "locations_file = os.path.join(model9_dir, 'particle_locations.txt')\n",
        "\n",
        "# === Class Mappings ===\n",
        "pdb_to_idx = {\n",
        "    '3cf3': 0, '1s3x': 1, '1u6g': 2, '4cr2': 3, '1qvr': 4, '3h84': 5,\n",
        "    '2cg9': 6, '3qm1': 7, '3gl1': 8, '3d2f': 9, '4d8q': 10, '1bxn': 11\n",
        "}\n",
        "idx_to_pdb = {v: k for k, v in pdb_to_idx.items()}\n",
        "\n",
        "\n",
        "# Load particle locations\n",
        "with open(locations_file, 'r') as f:\n",
        "    particles = [line.strip().split() for line in f.readlines()]\n",
        "\n",
        "\n",
        "# Load tomogram volume (for inference)\n",
        "with mrcfile.open(mrc_path, permissive=True) as mrc:\n",
        "    volume = mrc.data.copy()\n",
        "\n",
        "# -------- Parameters --------\n",
        "patch_size = 48\n",
        "half = patch_size // 2\n",
        "\n",
        "# -------- CSV Setup --------\n",
        "csv_rows = []\n",
        "header = [\"xy\", \"xz\", \"yz\", \"class\"]\n",
        "counter = 0\n",
        "\n",
        "\n",
        "# === Image Transform for Inference ===\n",
        "transform = transforms.Compose([\n",
        "    transforms.Resize((224, 224)),\n",
        "    transforms.ToTensor(),\n",
        "    transforms.Normalize(mean=[0.485, 0.456, 0.406],\n",
        "                         std=[0.229, 0.224, 0.225])\n",
        "])\n",
        "\n",
        "# -------- Normalize slice before saving --------\n",
        "def normalize_to_uint8(arr):\n",
        "    arr = arr - arr.min()\n",
        "    arr = arr / (arr.max() + 1e-8)  # avoid divide-by-zero\n",
        "    return (arr * 255).astype(np.uint8)"
      ],
      "metadata": {
        "id": "oJsuOK3i6e06",
        "colab": {
          "base_uri": "https://localhost:8080/"
        },
        "outputId": "49855265-6393-4719-cfa7-63301aaf64e4"
      },
      "execution_count": null,
      "outputs": [
        {
          "output_type": "stream",
          "name": "stderr",
          "text": [
            "/usr/local/lib/python3.11/dist-packages/mrcfile/mrcinterpreter.py:206: RuntimeWarning: Map ID string not found - not an MRC file, or file is corrupt\n",
            "  warnings.warn(msg, RuntimeWarning)\n"
          ]
        }
      ]
    },
    {
      "cell_type": "code",
      "execution_count": null,
      "metadata": {
        "id": "wuuRenjR41Wf"
      },
      "outputs": [],
      "source": [
        "# Global Random seeds for ensuring reproducibility\n",
        "\n",
        "def set_seed(seed=42):\n",
        "    random.seed(seed)\n",
        "    np.random.seed(seed)\n",
        "    torch.manual_seed(seed)\n",
        "    torch.cuda.manual_seed(seed)\n",
        "    torch.cuda.manual_seed_all(seed)\n",
        "    torch.backends.cudnn.deterministic = True\n",
        "    torch.backends.cudnn.benchmark = False\n",
        "\n",
        "set_seed(42)"
      ]
    },
    {
      "cell_type": "markdown",
      "metadata": {
        "id": "8KXPe2J0phDG"
      },
      "source": [
        "## Training and Validation Dataset preparation (**Run for once**)"
      ]
    },
    {
      "cell_type": "markdown",
      "source": [
        "### Slicing the data (3d views: xy, xz, yz)"
      ],
      "metadata": {
        "id": "_dI_p-hl8A6c"
      }
    },
    {
      "cell_type": "code",
      "execution_count": null,
      "metadata": {
        "colab": {
          "base_uri": "https://localhost:8080/"
        },
        "id": "RhHKhPbHFXb8",
        "outputId": "2e9649d7-b0f9-40c7-9c3b-424206bc0bda"
      },
      "outputs": [
        {
          "name": "stderr",
          "output_type": "stream",
          "text": [
            "\r\n",
            "  0%|          | 0/9 [00:00<?, ?it/s]/usr/local/lib/python3.11/dist-packages/mrcfile/mrcinterpreter.py:206: RuntimeWarning: Map ID string not found - not an MRC file, or file is corrupt\n",
            "  warnings.warn(msg, RuntimeWarning)\n",
            "100%|██████████| 9/9 [15:01<00:00, 100.14s/it]"
          ]
        },
        {
          "name": "stdout",
          "output_type": "stream",
          "text": [
            "\n",
            " All slices and CSV saved to: /content/drive/MyDrive/SHREC2020/slice_dataset\n",
            " CSV file created: /content/drive/MyDrive/SHREC2020/slice_triplets.csv\n"
          ]
        },
        {
          "name": "stderr",
          "output_type": "stream",
          "text": [
            "\n"
          ]
        }
      ],
      "source": [
        "for tomo_dir in tqdm(tomogram_dirs):\n",
        "    with open(os.path.join(tomo_dir, 'particle_locations.txt'), 'r') as f:\n",
        "        locations = [line.strip().split() for line in f.readlines()]\n",
        "\n",
        "    with mrcfile.open(os.path.join(tomo_dir, 'grandmodel.mrc'), permissive=True) as mrc:\n",
        "        volume = mrc.data.copy()\n",
        "\n",
        "    shape_z, shape_y, shape_x = volume.shape\n",
        "\n",
        "    for entry in locations:\n",
        "        pdb_id, x, y, z = entry[0], int(float(entry[1])), int(float(entry[2])), int(float(entry[3]))\n",
        "        cls_idx = pdb_to_idx[pdb_id]\n",
        "        class_dir = os.path.join(save_root, f'class_{cls_idx}')\n",
        "        os.makedirs(class_dir, exist_ok=True)\n",
        "\n",
        "        if (x - half < 0 or y - half < 0 or z - half < 0 or\n",
        "            x + half >= shape_x or y + half >= shape_y or z + half >= shape_z):\n",
        "            continue\n",
        "\n",
        "        patch = volume[z - half:z + half, y - half:y + half, x - half:x + half]\n",
        "\n",
        "        xy = Image.fromarray(normalize_to_uint8(patch[half, :, :]))\n",
        "        xz = Image.fromarray(normalize_to_uint8(patch[:, half, :]))\n",
        "        yz = Image.fromarray(normalize_to_uint8(patch[:, :, half]))\n",
        "\n",
        "        slice_base = f'{pdb_id}_{counter:05d}'\n",
        "        xy_path = os.path.join(f'class_{cls_idx}', f'{slice_base}_xy.png')\n",
        "        xz_path = os.path.join(f'class_{cls_idx}', f'{slice_base}_xz.png')\n",
        "        yz_path = os.path.join(f'class_{cls_idx}', f'{slice_base}_yz.png')\n",
        "\n",
        "        xy.save(os.path.join(save_root, xy_path))\n",
        "        xz.save(os.path.join(save_root, xz_path))\n",
        "        yz.save(os.path.join(save_root, yz_path))\n",
        "\n",
        "        csv_rows.append([xy_path, xz_path, yz_path, cls_idx])\n",
        "        counter += 1\n",
        "\n",
        "# -------- SAVE CSV --------\n",
        "with open(csv_output_path, 'w', newline='') as f:\n",
        "    writer = csv.writer(f)\n",
        "    writer.writerow(header)\n",
        "    writer.writerows(csv_rows)\n",
        "\n",
        "print(f\"\\n All slices and CSV saved to: {save_root}\")\n",
        "print(f\" CSV file created: {csv_output_path}\")\n"
      ]
    },
    {
      "cell_type": "code",
      "execution_count": null,
      "metadata": {
        "id": "dOWMLC44UnUE"
      },
      "outputs": [],
      "source": [
        "df = pd.DataFrame(csv_rows, columns=[\"xy\", \"xz\", \"yz\", \"class\"])\n",
        "df.to_csv('/content/drive/MyDrive/SHREC2020/slice_triplets.csv', index=False)\n"
      ]
    },
    {
      "cell_type": "code",
      "execution_count": null,
      "metadata": {
        "colab": {
          "base_uri": "https://localhost:8080/",
          "height": 206
        },
        "id": "IE-DuXMUnNLE",
        "outputId": "ce3fc953-0288-4bdd-e650-fc710cd83a2a"
      },
      "outputs": [
        {
          "data": {
            "application/vnd.google.colaboratory.intrinsic+json": {
              "summary": "{\n  \"name\": \"df\",\n  \"rows\": 19411,\n  \"fields\": [\n    {\n      \"column\": \"xy\",\n      \"properties\": {\n        \"dtype\": \"string\",\n        \"num_unique_values\": 19411,\n        \"samples\": [\n          \"class_3/4cr2_12248_xy.png\",\n          \"class_6/2cg9_17169_xy.png\",\n          \"class_10/4d8q_00346_xy.png\"\n        ],\n        \"semantic_type\": \"\",\n        \"description\": \"\"\n      }\n    },\n    {\n      \"column\": \"xz\",\n      \"properties\": {\n        \"dtype\": \"string\",\n        \"num_unique_values\": 19411,\n        \"samples\": [\n          \"class_3/4cr2_12248_xz.png\",\n          \"class_6/2cg9_17169_xz.png\",\n          \"class_10/4d8q_00346_xz.png\"\n        ],\n        \"semantic_type\": \"\",\n        \"description\": \"\"\n      }\n    },\n    {\n      \"column\": \"yz\",\n      \"properties\": {\n        \"dtype\": \"string\",\n        \"num_unique_values\": 19411,\n        \"samples\": [\n          \"class_3/4cr2_12248_yz.png\",\n          \"class_6/2cg9_17169_yz.png\",\n          \"class_10/4d8q_00346_yz.png\"\n        ],\n        \"semantic_type\": \"\",\n        \"description\": \"\"\n      }\n    },\n    {\n      \"column\": \"class\",\n      \"properties\": {\n        \"dtype\": \"number\",\n        \"std\": 3,\n        \"min\": 0,\n        \"max\": 11,\n        \"num_unique_values\": 12,\n        \"samples\": [\n          9,\n          6,\n          5\n        ],\n        \"semantic_type\": \"\",\n        \"description\": \"\"\n      }\n    }\n  ]\n}",
              "type": "dataframe",
              "variable_name": "df"
            },
            "text/html": [
              "\n",
              "  <div id=\"df-05c2a5ab-d083-48d2-b495-4274d896f246\" class=\"colab-df-container\">\n",
              "    <div>\n",
              "<style scoped>\n",
              "    .dataframe tbody tr th:only-of-type {\n",
              "        vertical-align: middle;\n",
              "    }\n",
              "\n",
              "    .dataframe tbody tr th {\n",
              "        vertical-align: top;\n",
              "    }\n",
              "\n",
              "    .dataframe thead th {\n",
              "        text-align: right;\n",
              "    }\n",
              "</style>\n",
              "<table border=\"1\" class=\"dataframe\">\n",
              "  <thead>\n",
              "    <tr style=\"text-align: right;\">\n",
              "      <th></th>\n",
              "      <th>xy</th>\n",
              "      <th>xz</th>\n",
              "      <th>yz</th>\n",
              "      <th>class</th>\n",
              "    </tr>\n",
              "  </thead>\n",
              "  <tbody>\n",
              "    <tr>\n",
              "      <th>0</th>\n",
              "      <td>class_5/3h84_00000_xy.png</td>\n",
              "      <td>class_5/3h84_00000_xz.png</td>\n",
              "      <td>class_5/3h84_00000_yz.png</td>\n",
              "      <td>5</td>\n",
              "    </tr>\n",
              "    <tr>\n",
              "      <th>1</th>\n",
              "      <td>class_8/3gl1_00001_xy.png</td>\n",
              "      <td>class_8/3gl1_00001_xz.png</td>\n",
              "      <td>class_8/3gl1_00001_yz.png</td>\n",
              "      <td>8</td>\n",
              "    </tr>\n",
              "    <tr>\n",
              "      <th>2</th>\n",
              "      <td>class_0/3cf3_00002_xy.png</td>\n",
              "      <td>class_0/3cf3_00002_xz.png</td>\n",
              "      <td>class_0/3cf3_00002_yz.png</td>\n",
              "      <td>0</td>\n",
              "    </tr>\n",
              "    <tr>\n",
              "      <th>3</th>\n",
              "      <td>class_7/3qm1_00003_xy.png</td>\n",
              "      <td>class_7/3qm1_00003_xz.png</td>\n",
              "      <td>class_7/3qm1_00003_yz.png</td>\n",
              "      <td>7</td>\n",
              "    </tr>\n",
              "    <tr>\n",
              "      <th>4</th>\n",
              "      <td>class_3/4cr2_00004_xy.png</td>\n",
              "      <td>class_3/4cr2_00004_xz.png</td>\n",
              "      <td>class_3/4cr2_00004_yz.png</td>\n",
              "      <td>3</td>\n",
              "    </tr>\n",
              "  </tbody>\n",
              "</table>\n",
              "</div>\n",
              "    <div class=\"colab-df-buttons\">\n",
              "\n",
              "  <div class=\"colab-df-container\">\n",
              "    <button class=\"colab-df-convert\" onclick=\"convertToInteractive('df-05c2a5ab-d083-48d2-b495-4274d896f246')\"\n",
              "            title=\"Convert this dataframe to an interactive table.\"\n",
              "            style=\"display:none;\">\n",
              "\n",
              "  <svg xmlns=\"http://www.w3.org/2000/svg\" height=\"24px\" viewBox=\"0 -960 960 960\">\n",
              "    <path d=\"M120-120v-720h720v720H120Zm60-500h600v-160H180v160Zm220 220h160v-160H400v160Zm0 220h160v-160H400v160ZM180-400h160v-160H180v160Zm440 0h160v-160H620v160ZM180-180h160v-160H180v160Zm440 0h160v-160H620v160Z\"/>\n",
              "  </svg>\n",
              "    </button>\n",
              "\n",
              "  <style>\n",
              "    .colab-df-container {\n",
              "      display:flex;\n",
              "      gap: 12px;\n",
              "    }\n",
              "\n",
              "    .colab-df-convert {\n",
              "      background-color: #E8F0FE;\n",
              "      border: none;\n",
              "      border-radius: 50%;\n",
              "      cursor: pointer;\n",
              "      display: none;\n",
              "      fill: #1967D2;\n",
              "      height: 32px;\n",
              "      padding: 0 0 0 0;\n",
              "      width: 32px;\n",
              "    }\n",
              "\n",
              "    .colab-df-convert:hover {\n",
              "      background-color: #E2EBFA;\n",
              "      box-shadow: 0px 1px 2px rgba(60, 64, 67, 0.3), 0px 1px 3px 1px rgba(60, 64, 67, 0.15);\n",
              "      fill: #174EA6;\n",
              "    }\n",
              "\n",
              "    .colab-df-buttons div {\n",
              "      margin-bottom: 4px;\n",
              "    }\n",
              "\n",
              "    [theme=dark] .colab-df-convert {\n",
              "      background-color: #3B4455;\n",
              "      fill: #D2E3FC;\n",
              "    }\n",
              "\n",
              "    [theme=dark] .colab-df-convert:hover {\n",
              "      background-color: #434B5C;\n",
              "      box-shadow: 0px 1px 3px 1px rgba(0, 0, 0, 0.15);\n",
              "      filter: drop-shadow(0px 1px 2px rgba(0, 0, 0, 0.3));\n",
              "      fill: #FFFFFF;\n",
              "    }\n",
              "  </style>\n",
              "\n",
              "    <script>\n",
              "      const buttonEl =\n",
              "        document.querySelector('#df-05c2a5ab-d083-48d2-b495-4274d896f246 button.colab-df-convert');\n",
              "      buttonEl.style.display =\n",
              "        google.colab.kernel.accessAllowed ? 'block' : 'none';\n",
              "\n",
              "      async function convertToInteractive(key) {\n",
              "        const element = document.querySelector('#df-05c2a5ab-d083-48d2-b495-4274d896f246');\n",
              "        const dataTable =\n",
              "          await google.colab.kernel.invokeFunction('convertToInteractive',\n",
              "                                                    [key], {});\n",
              "        if (!dataTable) return;\n",
              "\n",
              "        const docLinkHtml = 'Like what you see? Visit the ' +\n",
              "          '<a target=\"_blank\" href=https://colab.research.google.com/notebooks/data_table.ipynb>data table notebook</a>'\n",
              "          + ' to learn more about interactive tables.';\n",
              "        element.innerHTML = '';\n",
              "        dataTable['output_type'] = 'display_data';\n",
              "        await google.colab.output.renderOutput(dataTable, element);\n",
              "        const docLink = document.createElement('div');\n",
              "        docLink.innerHTML = docLinkHtml;\n",
              "        element.appendChild(docLink);\n",
              "      }\n",
              "    </script>\n",
              "  </div>\n",
              "\n",
              "\n",
              "<div id=\"df-bd0e5bd4-4439-4283-92a2-15dad8a7c320\">\n",
              "  <button class=\"colab-df-quickchart\" onclick=\"quickchart('df-bd0e5bd4-4439-4283-92a2-15dad8a7c320')\"\n",
              "            title=\"Suggest charts\"\n",
              "            style=\"display:none;\">\n",
              "\n",
              "<svg xmlns=\"http://www.w3.org/2000/svg\" height=\"24px\"viewBox=\"0 0 24 24\"\n",
              "     width=\"24px\">\n",
              "    <g>\n",
              "        <path d=\"M19 3H5c-1.1 0-2 .9-2 2v14c0 1.1.9 2 2 2h14c1.1 0 2-.9 2-2V5c0-1.1-.9-2-2-2zM9 17H7v-7h2v7zm4 0h-2V7h2v10zm4 0h-2v-4h2v4z\"/>\n",
              "    </g>\n",
              "</svg>\n",
              "  </button>\n",
              "\n",
              "<style>\n",
              "  .colab-df-quickchart {\n",
              "      --bg-color: #E8F0FE;\n",
              "      --fill-color: #1967D2;\n",
              "      --hover-bg-color: #E2EBFA;\n",
              "      --hover-fill-color: #174EA6;\n",
              "      --disabled-fill-color: #AAA;\n",
              "      --disabled-bg-color: #DDD;\n",
              "  }\n",
              "\n",
              "  [theme=dark] .colab-df-quickchart {\n",
              "      --bg-color: #3B4455;\n",
              "      --fill-color: #D2E3FC;\n",
              "      --hover-bg-color: #434B5C;\n",
              "      --hover-fill-color: #FFFFFF;\n",
              "      --disabled-bg-color: #3B4455;\n",
              "      --disabled-fill-color: #666;\n",
              "  }\n",
              "\n",
              "  .colab-df-quickchart {\n",
              "    background-color: var(--bg-color);\n",
              "    border: none;\n",
              "    border-radius: 50%;\n",
              "    cursor: pointer;\n",
              "    display: none;\n",
              "    fill: var(--fill-color);\n",
              "    height: 32px;\n",
              "    padding: 0;\n",
              "    width: 32px;\n",
              "  }\n",
              "\n",
              "  .colab-df-quickchart:hover {\n",
              "    background-color: var(--hover-bg-color);\n",
              "    box-shadow: 0 1px 2px rgba(60, 64, 67, 0.3), 0 1px 3px 1px rgba(60, 64, 67, 0.15);\n",
              "    fill: var(--button-hover-fill-color);\n",
              "  }\n",
              "\n",
              "  .colab-df-quickchart-complete:disabled,\n",
              "  .colab-df-quickchart-complete:disabled:hover {\n",
              "    background-color: var(--disabled-bg-color);\n",
              "    fill: var(--disabled-fill-color);\n",
              "    box-shadow: none;\n",
              "  }\n",
              "\n",
              "  .colab-df-spinner {\n",
              "    border: 2px solid var(--fill-color);\n",
              "    border-color: transparent;\n",
              "    border-bottom-color: var(--fill-color);\n",
              "    animation:\n",
              "      spin 1s steps(1) infinite;\n",
              "  }\n",
              "\n",
              "  @keyframes spin {\n",
              "    0% {\n",
              "      border-color: transparent;\n",
              "      border-bottom-color: var(--fill-color);\n",
              "      border-left-color: var(--fill-color);\n",
              "    }\n",
              "    20% {\n",
              "      border-color: transparent;\n",
              "      border-left-color: var(--fill-color);\n",
              "      border-top-color: var(--fill-color);\n",
              "    }\n",
              "    30% {\n",
              "      border-color: transparent;\n",
              "      border-left-color: var(--fill-color);\n",
              "      border-top-color: var(--fill-color);\n",
              "      border-right-color: var(--fill-color);\n",
              "    }\n",
              "    40% {\n",
              "      border-color: transparent;\n",
              "      border-right-color: var(--fill-color);\n",
              "      border-top-color: var(--fill-color);\n",
              "    }\n",
              "    60% {\n",
              "      border-color: transparent;\n",
              "      border-right-color: var(--fill-color);\n",
              "    }\n",
              "    80% {\n",
              "      border-color: transparent;\n",
              "      border-right-color: var(--fill-color);\n",
              "      border-bottom-color: var(--fill-color);\n",
              "    }\n",
              "    90% {\n",
              "      border-color: transparent;\n",
              "      border-bottom-color: var(--fill-color);\n",
              "    }\n",
              "  }\n",
              "</style>\n",
              "\n",
              "  <script>\n",
              "    async function quickchart(key) {\n",
              "      const quickchartButtonEl =\n",
              "        document.querySelector('#' + key + ' button');\n",
              "      quickchartButtonEl.disabled = true;  // To prevent multiple clicks.\n",
              "      quickchartButtonEl.classList.add('colab-df-spinner');\n",
              "      try {\n",
              "        const charts = await google.colab.kernel.invokeFunction(\n",
              "            'suggestCharts', [key], {});\n",
              "      } catch (error) {\n",
              "        console.error('Error during call to suggestCharts:', error);\n",
              "      }\n",
              "      quickchartButtonEl.classList.remove('colab-df-spinner');\n",
              "      quickchartButtonEl.classList.add('colab-df-quickchart-complete');\n",
              "    }\n",
              "    (() => {\n",
              "      let quickchartButtonEl =\n",
              "        document.querySelector('#df-bd0e5bd4-4439-4283-92a2-15dad8a7c320 button');\n",
              "      quickchartButtonEl.style.display =\n",
              "        google.colab.kernel.accessAllowed ? 'block' : 'none';\n",
              "    })();\n",
              "  </script>\n",
              "</div>\n",
              "\n",
              "    </div>\n",
              "  </div>\n"
            ],
            "text/plain": [
              "                          xy                         xz  \\\n",
              "0  class_5/3h84_00000_xy.png  class_5/3h84_00000_xz.png   \n",
              "1  class_8/3gl1_00001_xy.png  class_8/3gl1_00001_xz.png   \n",
              "2  class_0/3cf3_00002_xy.png  class_0/3cf3_00002_xz.png   \n",
              "3  class_7/3qm1_00003_xy.png  class_7/3qm1_00003_xz.png   \n",
              "4  class_3/4cr2_00004_xy.png  class_3/4cr2_00004_xz.png   \n",
              "\n",
              "                          yz  class  \n",
              "0  class_5/3h84_00000_yz.png      5  \n",
              "1  class_8/3gl1_00001_yz.png      8  \n",
              "2  class_0/3cf3_00002_yz.png      0  \n",
              "3  class_7/3qm1_00003_yz.png      7  \n",
              "4  class_3/4cr2_00004_yz.png      3  "
            ]
          },
          "execution_count": 8,
          "metadata": {},
          "output_type": "execute_result"
        }
      ],
      "source": [
        "df.head()"
      ]
    },
    {
      "cell_type": "code",
      "execution_count": null,
      "metadata": {
        "id": "YvWBIuBpQR1O"
      },
      "outputs": [],
      "source": [
        "zip_filename = 'slice_dataset.zip'\n",
        "\n",
        "shutil.make_archive(base_name=save_root, format='zip', root_dir=save_root)\n",
        "\n"
      ]
    },
    {
      "cell_type": "code",
      "execution_count": null,
      "metadata": {
        "colab": {
          "base_uri": "https://localhost:8080/",
          "height": 17
        },
        "id": "hi7iv37dW2WI",
        "outputId": "6f17a23c-d23c-486f-f2b2-c9abab5431c1"
      },
      "outputs": [
        {
          "data": {
            "application/javascript": "\n    async function download(id, filename, size) {\n      if (!google.colab.kernel.accessAllowed) {\n        return;\n      }\n      const div = document.createElement('div');\n      const label = document.createElement('label');\n      label.textContent = `Downloading \"${filename}\": `;\n      div.appendChild(label);\n      const progress = document.createElement('progress');\n      progress.max = size;\n      div.appendChild(progress);\n      document.body.appendChild(div);\n\n      const buffers = [];\n      let downloaded = 0;\n\n      const channel = await google.colab.kernel.comms.open(id);\n      // Send a message to notify the kernel that we're ready.\n      channel.send({})\n\n      for await (const message of channel.messages) {\n        // Send a message to notify the kernel that we're ready.\n        channel.send({})\n        if (message.buffers) {\n          for (const buffer of message.buffers) {\n            buffers.push(buffer);\n            downloaded += buffer.byteLength;\n            progress.value = downloaded;\n          }\n        }\n      }\n      const blob = new Blob(buffers, {type: 'application/binary'});\n      const a = document.createElement('a');\n      a.href = window.URL.createObjectURL(blob);\n      a.download = filename;\n      div.appendChild(a);\n      a.click();\n      div.remove();\n    }\n  ",
            "text/plain": [
              "<IPython.core.display.Javascript object>"
            ]
          },
          "metadata": {},
          "output_type": "display_data"
        },
        {
          "data": {
            "application/javascript": "download(\"download_665ec95e-be43-46c8-89f6-8e5b255a3577\", \"slice_dataset.zip\", 113642276)",
            "text/plain": [
              "<IPython.core.display.Javascript object>"
            ]
          },
          "metadata": {},
          "output_type": "display_data"
        }
      ],
      "source": [
        "files.download('/content/drive/MyDrive/SHREC2020/slice_dataset.zip')"
      ]
    },
    {
      "cell_type": "code",
      "execution_count": null,
      "metadata": {
        "colab": {
          "base_uri": "https://localhost:8080/",
          "height": 34
        },
        "id": "nmRAxPT7oiK0",
        "outputId": "c7289455-e5b9-439a-c8f4-487b1bf11074"
      },
      "outputs": [
        {
          "data": {
            "application/javascript": "\n    async function download(id, filename, size) {\n      if (!google.colab.kernel.accessAllowed) {\n        return;\n      }\n      const div = document.createElement('div');\n      const label = document.createElement('label');\n      label.textContent = `Downloading \"${filename}\": `;\n      div.appendChild(label);\n      const progress = document.createElement('progress');\n      progress.max = size;\n      div.appendChild(progress);\n      document.body.appendChild(div);\n\n      const buffers = [];\n      let downloaded = 0;\n\n      const channel = await google.colab.kernel.comms.open(id);\n      // Send a message to notify the kernel that we're ready.\n      channel.send({})\n\n      for await (const message of channel.messages) {\n        // Send a message to notify the kernel that we're ready.\n        channel.send({})\n        if (message.buffers) {\n          for (const buffer of message.buffers) {\n            buffers.push(buffer);\n            downloaded += buffer.byteLength;\n            progress.value = downloaded;\n          }\n        }\n      }\n      const blob = new Blob(buffers, {type: 'application/binary'});\n      const a = document.createElement('a');\n      a.href = window.URL.createObjectURL(blob);\n      a.download = filename;\n      div.appendChild(a);\n      a.click();\n      div.remove();\n    }\n  ",
            "text/plain": [
              "<IPython.core.display.Javascript object>"
            ]
          },
          "metadata": {},
          "output_type": "display_data"
        },
        {
          "data": {
            "application/javascript": "download(\"download_88a517bf-dd04-4b20-a952-850d2094ff66\", \"final_triplets.csv\", 1565819)",
            "text/plain": [
              "<IPython.core.display.Javascript object>"
            ]
          },
          "metadata": {},
          "output_type": "display_data"
        }
      ],
      "source": [
        "files.download('/content/slice_triplets.csv')\n"
      ]
    },
    {
      "cell_type": "markdown",
      "source": [
        "### Creating Triplets of the extracted Slices (3 views)"
      ],
      "metadata": {
        "id": "k7fN3VFu72ex"
      }
    },
    {
      "cell_type": "code",
      "execution_count": null,
      "metadata": {
        "id": "QAhk9y9jtd26"
      },
      "outputs": [],
      "source": [
        "# -------- Paths --------\n",
        "save_dir = '/content/processed_triplets'\n",
        "os.makedirs(save_dir, exist_ok=True)\n",
        "\n",
        "root_dir = \"/content/drive/MyDrive/SHREC2020/slice_dataset\"  # Slices folder\n",
        "csv_file = \"/content/slice_triplets.csv\"\n",
        "\n",
        "# -------- Process if not already done --------\n",
        "if len(os.listdir(save_dir)) == 0:\n",
        "    df = pd.read_csv(csv_file)\n",
        "    skipped = 0\n",
        "\n",
        "    for i, row in tqdm(df.iterrows(), total=len(df)):\n",
        "        try:\n",
        "            xy = transform(Image.open(os.path.join(root_dir, row['xy'])).convert('RGB'))\n",
        "            xz = transform(Image.open(os.path.join(root_dir, row['xz'])).convert('RGB'))\n",
        "            yz = transform(Image.open(os.path.join(root_dir, row['yz'])).convert('RGB'))\n",
        "\n",
        "            triplet = torch.stack([xy, xz, yz])  # [3, 3, 224, 224]\n",
        "            label = int(row['class'])\n",
        "\n",
        "            sample_path = os.path.join(save_dir, f'sample_{i:05d}.pt')\n",
        "            torch.save((triplet, label), sample_path)\n",
        "\n",
        "        except Exception as e:\n",
        "            print(f\"Skipping sample {i} due to error: {e}\")\n",
        "            skipped += 1\n",
        "            continue\n",
        "\n",
        "    print(f\"\\n Done. Saved {len(df) - skipped} samples, Skipped: {skipped}\")\n",
        "\n",
        "    # -------- Create ZIP --------\n",
        "    shutil.make_archive(save_dir, 'zip', save_dir)\n",
        "    files.download(f\"{save_dir}.zip\")\n",
        "else:\n",
        "    print(\"Directory is not empty. Skipping preprocessing. Delete files if you want to re-run.\")\n"
      ]
    },
    {
      "cell_type": "code",
      "execution_count": null,
      "metadata": {
        "id": "8skf8224-0W9"
      },
      "outputs": [],
      "source": [
        "!cp /content/processed_triplets.zip /content/drive/MyDrive/SHREC2020/\n"
      ]
    },
    {
      "cell_type": "markdown",
      "source": [
        "## Training and Validation Setup"
      ],
      "metadata": {
        "id": "4qodBhd_9KHP"
      }
    },
    {
      "cell_type": "code",
      "execution_count": null,
      "metadata": {
        "id": "iAEItmaRzwSM"
      },
      "outputs": [],
      "source": [
        "# Running it when the google colab session ending to copy the data from google drive to the local disk of the google colab session\n",
        "!cp -r /content/drive/MyDrive/SHREC2020/processed_triplets.zip /content/\n"
      ]
    },
    {
      "cell_type": "code",
      "execution_count": null,
      "metadata": {
        "id": "81osoL-a02Bh"
      },
      "outputs": [],
      "source": [
        "!unzip -q \"/content/processed_triplets.zip\" -d \"/content/processed_triplets\""
      ]
    },
    {
      "cell_type": "code",
      "execution_count": null,
      "metadata": {
        "colab": {
          "base_uri": "https://localhost:8080/"
        },
        "id": "BMG73ciQk9Q-",
        "outputId": "e684ecbb-eb16-4299-cf90-475113604be8"
      },
      "outputs": [
        {
          "output_type": "stream",
          "name": "stdout",
          "text": [
            "The number of samples in the dataset is: 19411\n"
          ]
        }
      ],
      "source": [
        "data_folder = '/content/processed_triplets'\n",
        "num_files = len([f for f in os.listdir(data_folder) if os.path.isfile(os.path.join(data_folder, f))])\n",
        "print(f'The number of samples in the dataset is: {num_files}')"
      ]
    },
    {
      "cell_type": "code",
      "execution_count": null,
      "metadata": {
        "colab": {
          "base_uri": "https://localhost:8080/",
          "height": 35
        },
        "id": "WS6SHh7Ra6Cg",
        "outputId": "b6cb4382-98ff-4fba-fcd7-277ddc111a3f"
      },
      "outputs": [
        {
          "output_type": "execute_result",
          "data": {
            "text/plain": [
              "'cuda'"
            ],
            "application/vnd.google.colaboratory.intrinsic+json": {
              "type": "string"
            }
          },
          "metadata": {},
          "execution_count": 8
        }
      ],
      "source": [
        "device = 'cuda' if torch.cuda.is_available() else 'cpu'\n",
        "\n",
        "device"
      ]
    },
    {
      "cell_type": "markdown",
      "source": [
        "### Creating Custom Dataset Class"
      ],
      "metadata": {
        "id": "yOgmQEbn9UcW"
      }
    },
    {
      "cell_type": "code",
      "execution_count": null,
      "metadata": {
        "id": "4d17HAGUDk86"
      },
      "outputs": [],
      "source": [
        "class TripletTensorDataset(Dataset):\n",
        "    def __init__(self, pt_dir):\n",
        "        self.pt_files = sorted([\n",
        "            os.path.join(pt_dir, f) for f in os.listdir(pt_dir) if f.endswith('.pt')\n",
        "        ])\n",
        "\n",
        "    def __len__(self):\n",
        "        return len(self.pt_files)\n",
        "\n",
        "    def __getitem__(self, idx):\n",
        "        try:\n",
        "            triplet, label = torch.load(self.pt_files[idx], map_location='cpu')  # safer loading\n",
        "            return triplet, label\n",
        "        except Exception as e:\n",
        "            print(f\"Error loading {self.pt_files[idx]}: {e}\")\n",
        "            raise\n"
      ]
    },
    {
      "cell_type": "markdown",
      "source": [
        "### Creating Training and Validation Data Loaders"
      ],
      "metadata": {
        "id": "WXweJ2Vm97ae"
      }
    },
    {
      "cell_type": "code",
      "execution_count": null,
      "metadata": {
        "id": "rPhTUGoCH6st"
      },
      "outputs": [],
      "source": [
        "full_dataset = TripletTensorDataset('/content/processed_triplets')\n",
        "\n",
        "train_size = int(0.8 * len(full_dataset))\n",
        "val_size = len(full_dataset) - train_size\n",
        "\n",
        "# For reproducible split\n",
        "generator = torch.Generator().manual_seed(42)\n",
        "train_dataset, val_dataset = random_split(full_dataset, [train_size, val_size], generator=generator)\n",
        "\n",
        "# Data loaders\n",
        "num_workers = os.cpu_count()\n",
        "train_loader = DataLoader(train_dataset, batch_size=32, shuffle=True, num_workers=num_workers, pin_memory=True, drop_last=True)\n",
        "val_loader = DataLoader(val_dataset, batch_size=32, shuffle=False, num_workers=num_workers, pin_memory=True)\n"
      ]
    },
    {
      "cell_type": "markdown",
      "source": [
        "\n",
        "\n",
        "### Inspecting the dataset\n",
        "\n"
      ],
      "metadata": {
        "id": "KnrkOEhC-ORe"
      }
    },
    {
      "cell_type": "code",
      "execution_count": null,
      "metadata": {
        "colab": {
          "base_uri": "https://localhost:8080/",
          "height": 941
        },
        "id": "uFNnS-ihasVo",
        "outputId": "39d16baf-bb1f-4a41-8377-5a3c4d826a40"
      },
      "outputs": [
        {
          "output_type": "stream",
          "name": "stderr",
          "text": [
            "WARNING:matplotlib.image:Clipping input data to the valid range for imshow with RGB data ([0..1] for floats or [0..255] for integers). Got range [-2.0665298..2.5528543].\n",
            "WARNING:matplotlib.image:Clipping input data to the valid range for imshow with RGB data ([0..1] for floats or [0..255] for integers). Got range [-2.0836544..2.6051416].\n",
            "WARNING:matplotlib.image:Clipping input data to the valid range for imshow with RGB data ([0..1] for floats or [0..255] for integers). Got range [-2.1007793..2.5528543].\n"
          ]
        },
        {
          "output_type": "display_data",
          "data": {
            "text/plain": [
              "<Figure size 1000x500 with 3 Axes>"
            ],
            "image/png": "[encoded data removed]"
          },
          "metadata": {}
        },
        {
          "output_type": "stream",
          "name": "stderr",
          "text": [
            "WARNING:matplotlib.image:Clipping input data to the valid range for imshow with RGB data ([0..1] for floats or [0..255] for integers). Got range [-2.0494049..2.5005665].\n",
            "WARNING:matplotlib.image:Clipping input data to the valid range for imshow with RGB data ([0..1] for floats or [0..255] for integers). Got range [-2.1007793..2.3611329].\n",
            "WARNING:matplotlib.image:Clipping input data to the valid range for imshow with RGB data ([0..1] for floats or [0..255] for integers). Got range [-2.1007793..2.2739873].\n"
          ]
        },
        {
          "output_type": "display_data",
          "data": {
            "text/plain": [
              "<Figure size 1000x500 with 3 Axes>"
            ],
            "image/png": "[encoded data removed]"
          },
          "metadata": {}
        }
      ],
      "source": [
        "# Visualizing a random sample\n",
        "\n",
        "def visualize_random_sample(data_folder):\n",
        "       random_file = random.choice(os.listdir(data_folder))\n",
        "       file_path = os.path.join(data_folder, random_file)\n",
        "\n",
        "       sample = torch.load(file_path)\n",
        "       xy, xz, yz, label = sample[0][0], sample[0][1], sample[0][2], sample[1]\n",
        "\n",
        "       xy = xy.permute(1, 2, 0).numpy()\n",
        "       xz = xz.permute(1, 2, 0).numpy()\n",
        "       yz = yz.permute(1, 2, 0).numpy()\n",
        "\n",
        "       fig, axes = plt.subplots(1, 3, figsize=(10, 5))\n",
        "\n",
        "       axes[0].imshow(xy)\n",
        "       axes[0].set_title('xy plane')\n",
        "       axes[1].imshow(xz)\n",
        "       axes[1].set_title('xz plane')\n",
        "       axes[2].imshow(yz)\n",
        "       axes[2].set_title('yz plane')\n",
        "\n",
        "       plt.suptitle(f'Label: {label}')\n",
        "\n",
        "       plt.show()\n",
        "\n",
        "visualize_random_sample(data_folder)\n",
        "visualize_random_sample(data_folder)\n"
      ]
    },
    {
      "cell_type": "code",
      "execution_count": null,
      "metadata": {
        "colab": {
          "base_uri": "https://localhost:8080/",
          "height": 487
        },
        "id": "aDzFbhqJcnT9",
        "outputId": "a79f9921-f10a-4e52-f556-648890c9f905"
      },
      "outputs": [
        {
          "output_type": "display_data",
          "data": {
            "text/plain": [
              "<Figure size 800x500 with 1 Axes>"
            ],
            "image/png": "[encoded data removed]"
          },
          "metadata": {}
        }
      ],
      "source": [
        "# checking if there is a class imbalance\n",
        "\n",
        "labels = []\n",
        "\n",
        "for file_name in os.listdir(data_folder):\n",
        "  sample = os.path.join(data_folder, file_name)\n",
        "  if file_name.endswith('.pt'):\n",
        "    sample = torch.load(sample)\n",
        "    labels.append(sample[1])\n",
        "\n",
        "labels_counts = Counter(labels)\n",
        "\n",
        "\n",
        "plt.figure(figsize= (8, 5))\n",
        "sns.barplot(x= list(labels_counts.keys()), y= list(labels_counts.values()))\n",
        "plt.xlabel('Classes')\n",
        "plt.ylabel('Frequency')\n",
        "plt.title('Classes Distribution')\n",
        "plt.show()"
      ]
    },
    {
      "cell_type": "code",
      "execution_count": null,
      "metadata": {
        "colab": {
          "base_uri": "https://localhost:8080/"
        },
        "id": "qhPboBI0bjnQ",
        "outputId": "f231e81e-2f73-4014-b19b-5907b5bd8ddf"
      },
      "outputs": [
        {
          "output_type": "execute_result",
          "data": {
            "text/plain": [
              "Counter({2: 1592,\n",
              "         10: 1768,\n",
              "         4: 1911,\n",
              "         6: 1580,\n",
              "         7: 1432,\n",
              "         9: 1629,\n",
              "         0: 1719,\n",
              "         11: 1463,\n",
              "         1: 1290,\n",
              "         5: 1605,\n",
              "         8: 1440,\n",
              "         3: 1982})"
            ]
          },
          "metadata": {},
          "execution_count": 12
        }
      ],
      "source": [
        "labels_counts"
      ]
    },
    {
      "cell_type": "markdown",
      "source": [
        "### Defining Penalization Weights to Handle Class Imbalance"
      ],
      "metadata": {
        "id": "Eu3Cw9gw-quG"
      }
    },
    {
      "cell_type": "code",
      "execution_count": null,
      "metadata": {
        "colab": {
          "base_uri": "https://localhost:8080/"
        },
        "id": "HeNyCJ11WgPP",
        "outputId": "9d6733e5-7f75-4dba-a2f1-0f8e19178277"
      },
      "outputs": [
        {
          "output_type": "stream",
          "name": "stdout",
          "text": [
            "Penalization Weights: tensor([0.0773, 0.1030, 0.0835, 0.0671, 0.0695, 0.0828, 0.0841, 0.0928, 0.0923,\n",
            "        0.0816, 0.0752, 0.0908])\n"
          ]
        }
      ],
      "source": [
        "num_classes = max(labels_counts.keys()) + 1\n",
        "class_counts = torch.zeros(num_classes, dtype=torch.float32)\n",
        "\n",
        "for cls, count in labels_counts.items():\n",
        "    class_counts[cls] = count\n",
        "\n",
        "weights = 1.0 / class_counts\n",
        "\n",
        "weights = weights / weights.sum()\n",
        "\n",
        "penalize_weights = weights.to(dtype=torch.float32)\n",
        "print(\"Penalization Weights:\", penalize_weights)"
      ]
    },
    {
      "cell_type": "markdown",
      "metadata": {
        "id": "PRaEGFuwphDU"
      },
      "source": [
        "## ConvNext v1 and v2 Models Creation (From Hugging Face)"
      ]
    },
    {
      "cell_type": "code",
      "execution_count": null,
      "metadata": {
        "id": "bC95rEvYLR-S"
      },
      "outputs": [],
      "source": [
        "from transformers import ConvNextForImageClassification, ConvNextConfig\n",
        "\n",
        "def create_model(model_type='v1', num_labels=12):\n",
        "    label2id = {str(i): i for i in range(num_labels)}\n",
        "    id2label = {i: str(i) for i in range(num_labels)}\n",
        "\n",
        "    if model_type == 'v1':\n",
        "        config = ConvNextConfig.from_pretrained(\"facebook/convnext-tiny-224\")\n",
        "        config.num_labels = num_labels\n",
        "        config.label2id = label2id\n",
        "        config.id2label = id2label\n",
        "\n",
        "        model = ConvNextForImageClassification.from_pretrained(\n",
        "            \"facebook/convnext-tiny-224\",\n",
        "            config=config,\n",
        "            ignore_mismatched_sizes=True\n",
        "        )\n",
        "        return model\n",
        "\n",
        "    elif model_type == 'v2':\n",
        "        from transformers import ConvNextV2ForImageClassification, ConvNextV2Config\n",
        "        config = ConvNextV2Config.from_pretrained(\"facebook/convnextv2-tiny-1k-224\")\n",
        "        config.num_labels = num_labels\n",
        "        config.label2id = label2id\n",
        "        config.id2label = id2label\n",
        "\n",
        "        model = ConvNextV2ForImageClassification.from_pretrained(\n",
        "            \"facebook/convnextv2-tiny-1k-224\",\n",
        "            config=config,\n",
        "            ignore_mismatched_sizes=True\n",
        "        )\n",
        "        return model\n",
        "\n",
        "    else:\n",
        "        raise ValueError(\"model_type must be 'v1' or 'v2'\")\n"
      ]
    },
    {
      "cell_type": "markdown",
      "metadata": {
        "id": "_rDhKoTIphDV"
      },
      "source": [
        "## Training and Validation Pipeline"
      ]
    },
    {
      "cell_type": "markdown",
      "source": [
        "### Defining Some Helper Functions for Gradually layer's unfreezing for the ConvNext v1 & v2 pretrained models"
      ],
      "metadata": {
        "id": "N9BWlNwn_NdA"
      }
    },
    {
      "cell_type": "code",
      "execution_count": null,
      "metadata": {
        "id": "6EzTFZ3WP_tA"
      },
      "outputs": [],
      "source": [
        "def freeze_all(model):\n",
        "    for param in model.parameters():\n",
        "        param.requires_grad = False\n",
        "\n",
        "def unfreeze_classifier(model):\n",
        "    for name, param in model.named_parameters():\n",
        "        if \"classifier\" in name:\n",
        "            param.requires_grad = True\n",
        "\n",
        "def unfreeze_stages(model, stage_ids):\n",
        "  if hasattr(model, \"convnext\"):  # ConvNeXt V1\n",
        "        backbone = model.convnext\n",
        "  elif hasattr(model, \"convnextv2\"):  # ConvNeXt V2\n",
        "        backbone = model.convnextv2\n",
        "  else:\n",
        "        raise ValueError(\"Unsupported model structure. Cannot find backbone module.\")\n",
        "\n",
        "  for idx in stage_ids:\n",
        "        for param in backbone.encoder.stages[idx].parameters():\n",
        "            param.requires_grad = True\n",
        "\n",
        "def build_optimizer(model, lr_head=1e-4, lr_backbone=1e-5):\n",
        "    if hasattr(model, \"convnext\"):  # ConvNeXt V1\n",
        "        backbone = model.convnext\n",
        "    elif hasattr(model, \"convnextv2\"):  # ConvNeXt V2\n",
        "        backbone = model.convnextv2\n",
        "    else:\n",
        "        raise ValueError(\"Unsupported model structure. Cannot find backbone module.\")\n",
        "\n",
        "    return torch.optim.AdamW([\n",
        "        {'params': model.classifier.parameters(), 'lr': lr_head},\n",
        "        {'params': filter(lambda p: p.requires_grad, backbone.parameters()), 'lr': lr_backbone}\n",
        "    ])\n",
        "\n"
      ]
    },
    {
      "cell_type": "markdown",
      "source": [
        "### Train and validate function"
      ],
      "metadata": {
        "id": "2JKFCm9J__ks"
      }
    },
    {
      "cell_type": "code",
      "execution_count": null,
      "metadata": {
        "id": "1CfXJI5OUQ2t"
      },
      "outputs": [],
      "source": [
        "def train_and_validate(model_type='v1', save_path='best_model.pth', epochs=10, resume=False):\n",
        "    early_stop_patience = 3  # stop if no improvement for N epochs\n",
        "    early_stop_counter = 0\n",
        "\n",
        "    model = create_model(model_type).to(device)\n",
        "\n",
        "    freeze_all(model)                # Freeze all layers first\n",
        "    unfreeze_classifier(model)      # Unfreeze classifier to train only it initially\n",
        "\n",
        "    optimizer = build_optimizer(model)\n",
        "    scaler = torch.amp.GradScaler()\n",
        "\n",
        "    best_val_acc = 0.0\n",
        "    start_epoch = 0\n",
        "    history = {\n",
        "        \"train_loss\": [], \"train_acc\": [],\n",
        "        \"val_loss\": [], \"val_acc\": []\n",
        "    }\n",
        "\n",
        "    # Resume training if checkpoint exists\n",
        "    checkpoint_path = f\"{save_path}_checkpoint.pt\"\n",
        "\n",
        "    if resume and os.path.exists(checkpoint_path):\n",
        "        checkpoint = torch.load(checkpoint_path, map_location=device)\n",
        "        model.load_state_dict(checkpoint['model_state_dict'])\n",
        "        start_epoch = checkpoint['epoch']\n",
        "        best_val_acc = checkpoint.get('best_val_acc', 0.0)\n",
        "        print(f\"Resumed from epoch {start_epoch}, best_val_acc={best_val_acc:.4f}\")\n",
        "\n",
        "        # Re-apply unfreezing logic\n",
        "        if start_epoch >= 5:\n",
        "            print(\"[INFO] Re-unfreezing stage 3 after resume...\")\n",
        "            unfreeze_stages(model, [3])\n",
        "\n",
        "\n",
        "        # Try loading optimizer state\n",
        "        try:\n",
        "            optimizer.load_state_dict(checkpoint['optimizer_state_dict'])\n",
        "        except ValueError:\n",
        "            print(\"[WARNING] Optimizer state could not be loaded due to parameter mismatch. Rebuilding optimizer...\")\n",
        "            optimizer = build_optimizer(model)\n",
        "\n",
        "\n",
        "\n",
        "    for epoch in range(start_epoch, epochs):\n",
        "        # Gradually unfreeze ConvNeXt encoder stages\n",
        "        if epoch == 5:\n",
        "            print(\"[INFO] Unfreezing encoder stage 3...\")\n",
        "            unfreeze_stages(model, [3])\n",
        "            optimizer = build_optimizer(model)\n",
        "\n",
        "        start = time.time()\n",
        "        model.train()\n",
        "        train_loss, correct, total = 0, 0, 0\n",
        "\n",
        "        for batch_idx, (inputs, labels) in enumerate(tqdm(train_loader, desc=f\"[Train] Epoch {epoch+1}/{epochs}\")):\n",
        "            B, V, C, H, W = inputs.shape\n",
        "            inputs = inputs.view(B * V, C, H, W).to(device)\n",
        "            labels = labels.to(device)\n",
        "\n",
        "            optimizer.zero_grad()\n",
        "            with torch.amp.autocast(device_type='cuda'):\n",
        "                outputs = model(pixel_values=inputs)\n",
        "                logits = outputs.logits.view(B, V, -1).mean(1)\n",
        "                loss = F.cross_entropy(logits, labels, weight=penalize_weights.to(device))\n",
        "\n",
        "            scaler.scale(loss).backward()\n",
        "            scaler.step(optimizer)\n",
        "            scaler.update()\n",
        "\n",
        "            train_loss += loss.item()\n",
        "            preds = torch.argmax(logits, dim=1)\n",
        "            correct += (preds == labels).sum().item()\n",
        "            total += labels.size(0)\n",
        "\n",
        "        avg_train_loss = train_loss / len(train_loader)\n",
        "        train_acc = correct / total\n",
        "        history[\"train_loss\"].append(avg_train_loss)\n",
        "        history[\"train_acc\"].append(train_acc)\n",
        "\n",
        "        print(f\"[{model_type}] Epoch {epoch+1} — Train Loss: {avg_train_loss:.4f}, Accuracy: {train_acc:.4f}\")\n",
        "\n",
        "        # --- Validation ---\n",
        "        model.eval()\n",
        "        val_loss, all_preds, all_labels = 0, [], []\n",
        "\n",
        "        with torch.no_grad():\n",
        "            for inputs, labels in tqdm(val_loader, desc=f\"[Val] Epoch {epoch+1}/{epochs}\"):\n",
        "                B, V, C, H, W = inputs.shape\n",
        "                inputs = inputs.view(B * V, C, H, W).to(device)\n",
        "                labels = labels.to(device)\n",
        "\n",
        "                with torch.amp.autocast(device_type='cuda'):\n",
        "                    outputs = model(pixel_values=inputs)\n",
        "                    logits = outputs.logits.view(B, V, -1).mean(1)\n",
        "                    loss = F.cross_entropy(logits, labels)\n",
        "\n",
        "                val_loss += loss.item()\n",
        "                preds = torch.argmax(logits, dim=1)\n",
        "                all_preds.extend(preds.cpu().numpy())\n",
        "                all_labels.extend(labels.cpu().numpy())\n",
        "\n",
        "        avg_val_loss = val_loss / len(val_loader)\n",
        "        val_acc = accuracy_score(all_labels, all_preds)\n",
        "        history[\"val_loss\"].append(avg_val_loss)\n",
        "        history[\"val_acc\"].append(val_acc)\n",
        "\n",
        "        print(f\"[{model_type}] Epoch {epoch+1} — Val Loss: {avg_val_loss:.4f}, Accuracy: {val_acc:.4f}\")\n",
        "        print(f\"Time: {time.time() - start:.2f} sec\\n\")\n",
        "\n",
        "        # Save best model\n",
        "        if val_acc > best_val_acc:\n",
        "            best_val_acc = val_acc\n",
        "            torch.save(model.state_dict(), save_path)\n",
        "            print(f\"Best model saved to: {save_path}\")\n",
        "            torch.save({\n",
        "                'epoch': epoch + 1,\n",
        "                'model_state_dict': model.state_dict(),\n",
        "                'optimizer_state_dict': optimizer.state_dict(),\n",
        "                'best_val_acc': best_val_acc,\n",
        "                'seed': 42\n",
        "            }, checkpoint_path)\n",
        "\n",
        "            early_stop_counter = 0  # reset counter if improved\n",
        "        else:\n",
        "            early_stop_counter += 1\n",
        "            print(f\"[INFO] Early stopping counter: {early_stop_counter}/{early_stop_patience}\")\n",
        "\n",
        "            if early_stop_counter >= early_stop_patience:\n",
        "                print(\"[EARLY STOPPING] Validation performance has not improved.\")\n",
        "                break\n",
        "\n",
        "\n",
        "    return history\n"
      ]
    },
    {
      "cell_type": "markdown",
      "source": [
        "### Loss and Accuracy Curves Ploting Helper Function\n",
        "\n",
        "\n"
      ],
      "metadata": {
        "id": "76B2k2OoAHUf"
      }
    },
    {
      "cell_type": "code",
      "execution_count": null,
      "metadata": {
        "id": "2SW7s_GhF2GN"
      },
      "outputs": [],
      "source": [
        "def loss_curve_plot(metrics):\n",
        "  epochs = range(1, len(metrics['train_loss']) + 1)\n",
        "\n",
        "  plt.figure(figsize=(8, 5))\n",
        "  plt.plot(epochs, metrics['train_loss'], label='Train Loss')\n",
        "  plt.plot(epochs, metrics['val_loss'], label='Val Loss')\n",
        "  plt.xlabel('Epochs')\n",
        "  plt.ylabel('Loss')\n",
        "  plt.title('Loss Curve')\n",
        "  plt.legend()\n",
        "  plt.grid(True)\n",
        "  plt.show()\n",
        "\n",
        "\n",
        "def acc_curve_plot(metrics):\n",
        "  epochs = range(1, len(metrics['train_acc'])+1)\n",
        "\n",
        "  plt.figure(figsize=(8, 5))\n",
        "  plt.plot(epochs, [a * 100 for a in metrics['train_acc']], label='Train Accuracy')\n",
        "  plt.plot(epochs, [a * 100 for a in metrics['val_acc']], label='Val Accuracy')\n",
        "  plt.xlabel('Epochs')\n",
        "  plt.ylabel('Accuracy (%)')\n",
        "  plt.title('Accuracy Curve')\n",
        "  plt.legend()\n",
        "  plt.grid(True)\n",
        "  plt.show()\n"
      ]
    },
    {
      "cell_type": "markdown",
      "metadata": {
        "id": "zrRz3nQ1phDW"
      },
      "source": [
        "## Training ConvNext V1 and Evaluate it on the Validation set"
      ]
    },
    {
      "cell_type": "code",
      "execution_count": null,
      "metadata": {
        "colab": {
          "base_uri": "https://localhost:8080/"
        },
        "id": "NTdlaF7nmmVI",
        "outputId": "089ba505-94cc-4a0a-f408-127c4977efd2"
      },
      "outputs": [
        {
          "output_type": "stream",
          "name": "stderr",
          "text": [
            "Some weights of ConvNextForImageClassification were not initialized from the model checkpoint at facebook/convnext-tiny-224 and are newly initialized because the shapes did not match:\n",
            "- classifier.weight: found shape torch.Size([1000, 768]) in the checkpoint and torch.Size([12, 768]) in the model instantiated\n",
            "- classifier.bias: found shape torch.Size([1000]) in the checkpoint and torch.Size([12]) in the model instantiated\n",
            "You should probably TRAIN this model on a down-stream task to be able to use it for predictions and inference.\n",
            "[Train] Epoch 1/20: 100%|██████████| 485/485 [02:58<00:00,  2.72it/s]\n"
          ]
        },
        {
          "output_type": "stream",
          "name": "stdout",
          "text": [
            "[v1] Epoch 1 — Train Loss: 2.2112, Accuracy: 0.4027\n"
          ]
        },
        {
          "output_type": "stream",
          "name": "stderr",
          "text": [
            "[Val] Epoch 1/20: 100%|██████████| 122/122 [00:45<00:00,  2.69it/s]\n"
          ]
        },
        {
          "output_type": "stream",
          "name": "stdout",
          "text": [
            "[v1] Epoch 1 — Val Loss: 1.9858, Accuracy: 0.5143\n",
            "Time: 223.37 sec\n",
            "\n",
            "Best model saved to: /content/drive/MyDrive/SHREC2020/saved_models/best_convnextv1_hf.pth\n"
          ]
        },
        {
          "output_type": "stream",
          "name": "stderr",
          "text": [
            "[Train] Epoch 2/20: 100%|██████████| 485/485 [03:08<00:00,  2.57it/s]\n"
          ]
        },
        {
          "output_type": "stream",
          "name": "stdout",
          "text": [
            "[v1] Epoch 2 — Train Loss: 1.8369, Accuracy: 0.5892\n"
          ]
        },
        {
          "output_type": "stream",
          "name": "stderr",
          "text": [
            "[Val] Epoch 2/20: 100%|██████████| 122/122 [00:51<00:00,  2.39it/s]\n"
          ]
        },
        {
          "output_type": "stream",
          "name": "stdout",
          "text": [
            "[v1] Epoch 2 — Val Loss: 1.7198, Accuracy: 0.5952\n",
            "Time: 239.88 sec\n",
            "\n",
            "Best model saved to: /content/drive/MyDrive/SHREC2020/saved_models/best_convnextv1_hf.pth\n"
          ]
        },
        {
          "output_type": "stream",
          "name": "stderr",
          "text": [
            "[Train] Epoch 3/20: 100%|██████████| 485/485 [03:18<00:00,  2.44it/s]\n"
          ]
        },
        {
          "output_type": "stream",
          "name": "stdout",
          "text": [
            "[v1] Epoch 3 — Train Loss: 1.6273, Accuracy: 0.6370\n"
          ]
        },
        {
          "output_type": "stream",
          "name": "stderr",
          "text": [
            "[Val] Epoch 3/20: 100%|██████████| 122/122 [00:49<00:00,  2.46it/s]\n"
          ]
        },
        {
          "output_type": "stream",
          "name": "stdout",
          "text": [
            "[v1] Epoch 3 — Val Loss: 1.5598, Accuracy: 0.6346\n",
            "Time: 248.01 sec\n",
            "\n",
            "Best model saved to: /content/drive/MyDrive/SHREC2020/saved_models/best_convnextv1_hf.pth\n"
          ]
        },
        {
          "output_type": "stream",
          "name": "stderr",
          "text": [
            "[Train] Epoch 4/20: 100%|██████████| 485/485 [03:13<00:00,  2.50it/s]\n"
          ]
        },
        {
          "output_type": "stream",
          "name": "stdout",
          "text": [
            "[v1] Epoch 4 — Train Loss: 1.4899, Accuracy: 0.6630\n"
          ]
        },
        {
          "output_type": "stream",
          "name": "stderr",
          "text": [
            "[Val] Epoch 4/20: 100%|██████████| 122/122 [00:48<00:00,  2.52it/s]\n"
          ]
        },
        {
          "output_type": "stream",
          "name": "stdout",
          "text": [
            "[v1] Epoch 4 — Val Loss: 1.4427, Accuracy: 0.6500\n",
            "Time: 242.21 sec\n",
            "\n",
            "Best model saved to: /content/drive/MyDrive/SHREC2020/saved_models/best_convnextv1_hf.pth\n"
          ]
        },
        {
          "output_type": "stream",
          "name": "stderr",
          "text": [
            "[Train] Epoch 5/20: 100%|██████████| 485/485 [03:11<00:00,  2.54it/s]\n"
          ]
        },
        {
          "output_type": "stream",
          "name": "stdout",
          "text": [
            "[v1] Epoch 5 — Train Loss: 1.3881, Accuracy: 0.6819\n"
          ]
        },
        {
          "output_type": "stream",
          "name": "stderr",
          "text": [
            "[Val] Epoch 5/20: 100%|██████████| 122/122 [00:48<00:00,  2.54it/s]\n"
          ]
        },
        {
          "output_type": "stream",
          "name": "stdout",
          "text": [
            "[v1] Epoch 5 — Val Loss: 1.3550, Accuracy: 0.6696\n",
            "Time: 239.17 sec\n",
            "\n",
            "Best model saved to: /content/drive/MyDrive/SHREC2020/saved_models/best_convnextv1_hf.pth\n",
            "[INFO] Unfreezing encoder stage 3...\n"
          ]
        },
        {
          "output_type": "stream",
          "name": "stderr",
          "text": [
            "[Train] Epoch 6/20: 100%|██████████| 485/485 [03:16<00:00,  2.47it/s]\n"
          ]
        },
        {
          "output_type": "stream",
          "name": "stdout",
          "text": [
            "[v1] Epoch 6 — Train Loss: 0.7644, Accuracy: 0.8058\n"
          ]
        },
        {
          "output_type": "stream",
          "name": "stderr",
          "text": [
            "[Val] Epoch 6/20: 100%|██████████| 122/122 [00:51<00:00,  2.36it/s]\n"
          ]
        },
        {
          "output_type": "stream",
          "name": "stdout",
          "text": [
            "[v1] Epoch 6 — Val Loss: 0.4746, Accuracy: 0.8728\n",
            "Time: 247.94 sec\n",
            "\n",
            "Best model saved to: /content/drive/MyDrive/SHREC2020/saved_models/best_convnextv1_hf.pth\n"
          ]
        },
        {
          "output_type": "stream",
          "name": "stderr",
          "text": [
            "[Train] Epoch 7/20: 100%|██████████| 485/485 [03:27<00:00,  2.34it/s]\n"
          ]
        },
        {
          "output_type": "stream",
          "name": "stdout",
          "text": [
            "[v1] Epoch 7 — Train Loss: 0.3317, Accuracy: 0.9193\n"
          ]
        },
        {
          "output_type": "stream",
          "name": "stderr",
          "text": [
            "[Val] Epoch 7/20: 100%|██████████| 122/122 [00:50<00:00,  2.43it/s]\n"
          ]
        },
        {
          "output_type": "stream",
          "name": "stdout",
          "text": [
            "[v1] Epoch 7 — Val Loss: 0.2523, Accuracy: 0.9261\n",
            "Time: 257.36 sec\n",
            "\n",
            "Best model saved to: /content/drive/MyDrive/SHREC2020/saved_models/best_convnextv1_hf.pth\n"
          ]
        },
        {
          "output_type": "stream",
          "name": "stderr",
          "text": [
            "[Train] Epoch 8/20: 100%|██████████| 485/485 [03:17<00:00,  2.46it/s]\n"
          ]
        },
        {
          "output_type": "stream",
          "name": "stdout",
          "text": [
            "[v1] Epoch 8 — Train Loss: 0.1887, Accuracy: 0.9572\n"
          ]
        },
        {
          "output_type": "stream",
          "name": "stderr",
          "text": [
            "[Val] Epoch 8/20: 100%|██████████| 122/122 [00:51<00:00,  2.38it/s]\n"
          ]
        },
        {
          "output_type": "stream",
          "name": "stdout",
          "text": [
            "[v1] Epoch 8 — Val Loss: 0.1638, Accuracy: 0.9531\n",
            "Time: 248.38 sec\n",
            "\n",
            "Best model saved to: /content/drive/MyDrive/SHREC2020/saved_models/best_convnextv1_hf.pth\n"
          ]
        },
        {
          "output_type": "stream",
          "name": "stderr",
          "text": [
            "[Train] Epoch 9/20: 100%|██████████| 485/485 [03:30<00:00,  2.31it/s]\n"
          ]
        },
        {
          "output_type": "stream",
          "name": "stdout",
          "text": [
            "[v1] Epoch 9 — Train Loss: 0.1232, Accuracy: 0.9728\n"
          ]
        },
        {
          "output_type": "stream",
          "name": "stderr",
          "text": [
            "[Val] Epoch 9/20: 100%|██████████| 122/122 [00:56<00:00,  2.15it/s]\n"
          ]
        },
        {
          "output_type": "stream",
          "name": "stdout",
          "text": [
            "[v1] Epoch 9 — Val Loss: 0.1248, Accuracy: 0.9588\n",
            "Time: 267.15 sec\n",
            "\n",
            "Best model saved to: /content/drive/MyDrive/SHREC2020/saved_models/best_convnextv1_hf.pth\n"
          ]
        },
        {
          "output_type": "stream",
          "name": "stderr",
          "text": [
            "[Train] Epoch 10/20: 100%|██████████| 485/485 [03:48<00:00,  2.12it/s]\n"
          ]
        },
        {
          "output_type": "stream",
          "name": "stdout",
          "text": [
            "[v1] Epoch 10 — Train Loss: 0.0859, Accuracy: 0.9820\n"
          ]
        },
        {
          "output_type": "stream",
          "name": "stderr",
          "text": [
            "[Val] Epoch 10/20: 100%|██████████| 122/122 [00:57<00:00,  2.11it/s]\n"
          ]
        },
        {
          "output_type": "stream",
          "name": "stdout",
          "text": [
            "[v1] Epoch 10 — Val Loss: 0.0873, Accuracy: 0.9727\n",
            "Time: 286.56 sec\n",
            "\n",
            "Best model saved to: /content/drive/MyDrive/SHREC2020/saved_models/best_convnextv1_hf.pth\n"
          ]
        },
        {
          "output_type": "stream",
          "name": "stderr",
          "text": [
            "[Train] Epoch 11/20: 100%|██████████| 485/485 [03:45<00:00,  2.15it/s]\n"
          ]
        },
        {
          "output_type": "stream",
          "name": "stdout",
          "text": [
            "[v1] Epoch 11 — Train Loss: 0.0630, Accuracy: 0.9876\n"
          ]
        },
        {
          "output_type": "stream",
          "name": "stderr",
          "text": [
            "[Val] Epoch 11/20: 100%|██████████| 122/122 [00:55<00:00,  2.19it/s]\n"
          ]
        },
        {
          "output_type": "stream",
          "name": "stdout",
          "text": [
            "[v1] Epoch 11 — Val Loss: 0.0681, Accuracy: 0.9804\n",
            "Time: 281.70 sec\n",
            "\n",
            "Best model saved to: /content/drive/MyDrive/SHREC2020/saved_models/best_convnextv1_hf.pth\n"
          ]
        },
        {
          "output_type": "stream",
          "name": "stderr",
          "text": [
            "[Train] Epoch 12/20: 100%|██████████| 485/485 [03:40<00:00,  2.20it/s]\n"
          ]
        },
        {
          "output_type": "stream",
          "name": "stdout",
          "text": [
            "[v1] Epoch 12 — Train Loss: 0.0474, Accuracy: 0.9908\n"
          ]
        },
        {
          "output_type": "stream",
          "name": "stderr",
          "text": [
            "[Val] Epoch 12/20: 100%|██████████| 122/122 [00:57<00:00,  2.11it/s]\n"
          ]
        },
        {
          "output_type": "stream",
          "name": "stdout",
          "text": [
            "[v1] Epoch 12 — Val Loss: 0.0605, Accuracy: 0.9804\n",
            "Time: 278.57 sec\n",
            "\n",
            "[INFO] Early stopping counter: 1/3\n"
          ]
        },
        {
          "output_type": "stream",
          "name": "stderr",
          "text": [
            "[Train] Epoch 13/20: 100%|██████████| 485/485 [03:48<00:00,  2.13it/s]\n"
          ]
        },
        {
          "output_type": "stream",
          "name": "stdout",
          "text": [
            "[v1] Epoch 13 — Train Loss: 0.0352, Accuracy: 0.9939\n"
          ]
        },
        {
          "output_type": "stream",
          "name": "stderr",
          "text": [
            "[Val] Epoch 13/20: 100%|██████████| 122/122 [00:57<00:00,  2.12it/s]\n"
          ]
        },
        {
          "output_type": "stream",
          "name": "stdout",
          "text": [
            "[v1] Epoch 13 — Val Loss: 0.0479, Accuracy: 0.9851\n",
            "Time: 285.61 sec\n",
            "\n",
            "Best model saved to: /content/drive/MyDrive/SHREC2020/saved_models/best_convnextv1_hf.pth\n"
          ]
        },
        {
          "output_type": "stream",
          "name": "stderr",
          "text": [
            "[Train] Epoch 14/20: 100%|██████████| 485/485 [03:45<00:00,  2.15it/s]\n"
          ]
        },
        {
          "output_type": "stream",
          "name": "stdout",
          "text": [
            "[v1] Epoch 14 — Train Loss: 0.0262, Accuracy: 0.9959\n"
          ]
        },
        {
          "output_type": "stream",
          "name": "stderr",
          "text": [
            "[Val] Epoch 14/20: 100%|██████████| 122/122 [00:56<00:00,  2.16it/s]\n"
          ]
        },
        {
          "output_type": "stream",
          "name": "stdout",
          "text": [
            "[v1] Epoch 14 — Val Loss: 0.0466, Accuracy: 0.9866\n",
            "Time: 282.38 sec\n",
            "\n",
            "Best model saved to: /content/drive/MyDrive/SHREC2020/saved_models/best_convnextv1_hf.pth\n"
          ]
        },
        {
          "output_type": "stream",
          "name": "stderr",
          "text": [
            "[Train] Epoch 15/20: 100%|██████████| 485/485 [03:44<00:00,  2.16it/s]\n"
          ]
        },
        {
          "output_type": "stream",
          "name": "stdout",
          "text": [
            "[v1] Epoch 15 — Train Loss: 0.0209, Accuracy: 0.9966\n"
          ]
        },
        {
          "output_type": "stream",
          "name": "stderr",
          "text": [
            "[Val] Epoch 15/20: 100%|██████████| 122/122 [00:58<00:00,  2.10it/s]\n"
          ]
        },
        {
          "output_type": "stream",
          "name": "stdout",
          "text": [
            "[v1] Epoch 15 — Val Loss: 0.0379, Accuracy: 0.9889\n",
            "Time: 282.78 sec\n",
            "\n",
            "Best model saved to: /content/drive/MyDrive/SHREC2020/saved_models/best_convnextv1_hf.pth\n"
          ]
        },
        {
          "output_type": "stream",
          "name": "stderr",
          "text": [
            "[Train] Epoch 16/20: 100%|██████████| 485/485 [03:49<00:00,  2.11it/s]\n"
          ]
        },
        {
          "output_type": "stream",
          "name": "stdout",
          "text": [
            "[v1] Epoch 16 — Train Loss: 0.0150, Accuracy: 0.9985\n"
          ]
        },
        {
          "output_type": "stream",
          "name": "stderr",
          "text": [
            "[Val] Epoch 16/20: 100%|██████████| 122/122 [00:58<00:00,  2.08it/s]\n"
          ]
        },
        {
          "output_type": "stream",
          "name": "stdout",
          "text": [
            "[v1] Epoch 16 — Val Loss: 0.0345, Accuracy: 0.9884\n",
            "Time: 288.50 sec\n",
            "\n",
            "[INFO] Early stopping counter: 1/3\n"
          ]
        },
        {
          "output_type": "stream",
          "name": "stderr",
          "text": [
            "[Train] Epoch 17/20: 100%|██████████| 485/485 [03:49<00:00,  2.11it/s]\n"
          ]
        },
        {
          "output_type": "stream",
          "name": "stdout",
          "text": [
            "[v1] Epoch 17 — Train Loss: 0.0112, Accuracy: 0.9993\n"
          ]
        },
        {
          "output_type": "stream",
          "name": "stderr",
          "text": [
            "[Val] Epoch 17/20: 100%|██████████| 122/122 [00:56<00:00,  2.16it/s]\n"
          ]
        },
        {
          "output_type": "stream",
          "name": "stdout",
          "text": [
            "[v1] Epoch 17 — Val Loss: 0.0368, Accuracy: 0.9882\n",
            "Time: 286.32 sec\n",
            "\n",
            "[INFO] Early stopping counter: 2/3\n"
          ]
        },
        {
          "output_type": "stream",
          "name": "stderr",
          "text": [
            "[Train] Epoch 18/20: 100%|██████████| 485/485 [03:44<00:00,  2.16it/s]\n"
          ]
        },
        {
          "output_type": "stream",
          "name": "stdout",
          "text": [
            "[v1] Epoch 18 — Train Loss: 0.0081, Accuracy: 0.9998\n"
          ]
        },
        {
          "output_type": "stream",
          "name": "stderr",
          "text": [
            "[Val] Epoch 18/20: 100%|██████████| 122/122 [00:58<00:00,  2.10it/s]\n"
          ]
        },
        {
          "output_type": "stream",
          "name": "stdout",
          "text": [
            "[v1] Epoch 18 — Val Loss: 0.0298, Accuracy: 0.9892\n",
            "Time: 282.56 sec\n",
            "\n",
            "Best model saved to: /content/drive/MyDrive/SHREC2020/saved_models/best_convnextv1_hf.pth\n"
          ]
        },
        {
          "output_type": "stream",
          "name": "stderr",
          "text": [
            "[Train] Epoch 19/20: 100%|██████████| 485/485 [03:47<00:00,  2.13it/s]\n"
          ]
        },
        {
          "output_type": "stream",
          "name": "stdout",
          "text": [
            "[v1] Epoch 19 — Train Loss: 0.0063, Accuracy: 0.9999\n"
          ]
        },
        {
          "output_type": "stream",
          "name": "stderr",
          "text": [
            "[Val] Epoch 19/20: 100%|██████████| 122/122 [00:59<00:00,  2.05it/s]\n"
          ]
        },
        {
          "output_type": "stream",
          "name": "stdout",
          "text": [
            "[v1] Epoch 19 — Val Loss: 0.0291, Accuracy: 0.9897\n",
            "Time: 286.81 sec\n",
            "\n",
            "Best model saved to: /content/drive/MyDrive/SHREC2020/saved_models/best_convnextv1_hf.pth\n"
          ]
        },
        {
          "output_type": "stream",
          "name": "stderr",
          "text": [
            "[Train] Epoch 20/20: 100%|██████████| 485/485 [03:50<00:00,  2.11it/s]\n"
          ]
        },
        {
          "output_type": "stream",
          "name": "stdout",
          "text": [
            "[v1] Epoch 20 — Train Loss: 0.0045, Accuracy: 1.0000\n"
          ]
        },
        {
          "output_type": "stream",
          "name": "stderr",
          "text": [
            "[Val] Epoch 20/20: 100%|██████████| 122/122 [00:56<00:00,  2.15it/s]\n"
          ]
        },
        {
          "output_type": "stream",
          "name": "stdout",
          "text": [
            "[v1] Epoch 20 — Val Loss: 0.0275, Accuracy: 0.9902\n",
            "Time: 286.93 sec\n",
            "\n",
            "Best model saved to: /content/drive/MyDrive/SHREC2020/saved_models/best_convnextv1_hf.pth\n"
          ]
        }
      ],
      "source": [
        "# Train ConvNeXt V1 (Hugging Face version)\n",
        "v1_metrics = train_and_validate(\n",
        "    model_type='v1',\n",
        "    save_path='/content/drive/MyDrive/SHREC2020/saved_models/best_convnextv1_hf.pth',\n",
        "    epochs= 20,\n",
        "    resume= False\n",
        ")"
      ]
    },
    {
      "cell_type": "markdown",
      "source": [
        "### Visualize the loss and accuracy curves to make sure that ConvNext v1 is not overfiting"
      ],
      "metadata": {
        "id": "81th7UkCCZkE"
      }
    },
    {
      "cell_type": "code",
      "execution_count": null,
      "metadata": {
        "id": "KxsXHuWooiH3",
        "colab": {
          "base_uri": "https://localhost:8080/",
          "height": 992
        },
        "outputId": "3436c690-f144-4cf8-ee48-e16307e82ecf"
      },
      "outputs": [
        {
          "output_type": "display_data",
          "data": {
            "text/plain": [
              "<Figure size 800x500 with 1 Axes>"
            ],
            "image/png": "[encoded data removed]"
          },
          "metadata": {}
        },
        {
          "output_type": "display_data",
          "data": {
            "text/plain": [
              "<Figure size 640x480 with 0 Axes>"
            ]
          },
          "metadata": {}
        },
        {
          "output_type": "display_data",
          "data": {
            "text/plain": [
              "<Figure size 800x500 with 1 Axes>"
            ],
            "image/png": "[encoded data removed]"
          },
          "metadata": {}
        },
        {
          "output_type": "display_data",
          "data": {
            "text/plain": [
              "<Figure size 640x480 with 0 Axes>"
            ]
          },
          "metadata": {}
        }
      ],
      "source": [
        "loss_curve_plot(v1_metrics)\n",
        "plt.savefig('v1_Training_Validation_Loss_Curve.png')\n",
        "acc_curve_plot(v1_metrics)\n",
        "plt.savefig('v1_Training_Validation_Accuracy_Curve.png')\n"
      ]
    },
    {
      "cell_type": "markdown",
      "metadata": {
        "id": "rEe7YcT2phDX"
      },
      "source": [
        "## Training ConvNext V2 and Evaluate it on the Validation set"
      ]
    },
    {
      "cell_type": "code",
      "execution_count": null,
      "metadata": {
        "colab": {
          "base_uri": "https://localhost:8080/",
          "height": 1000,
          "referenced_widgets": [
            "1e988d05e71a46aa833aee087ed60f53",
            "7f1cbf88fa394921b8f3624920653537",
            "02e555f1da8249b4bf07c1ff4b83e444",
            "864e566919134883820cfd620e3f33d2",
            "21df6a4ff0e744c9b710ca8fc7bc9252",
            "3320b1096439440ca4b2c3df9633bdbe",
            "6e2804f525884f03ab617b90acebf4ca",
            "b67e3a405bf14418bebd30a891c5c721",
            "d4437dd6c5af4777a976e1135c966736",
            "2b20619b782248b587a8861d3d5e82e9",
            "4d6045bb2de44b2c964bbff14fe816dd",
            "9e68bb65d36e4aa89304108eb387066c",
            "df5aca5155ef44c98b7e9c43f4fd2cc0",
            "6f681a98bc2a4b14bb7e860c7872182e",
            "bacffa0a8515475e8778e369c24ac1f1",
            "a75e9a64e1b344f0866c80948a2fdd60",
            "66b05af64f4f43988d6931cbc354e5a6",
            "d98be01f7ff6453887e60e00a803f30c",
            "74c5508090614e5ea261947688ee9b68",
            "7c4673d8509842958c4bbeb30b81b55b",
            "2475db4dc0664712828eb012a0b44531",
            "56c2a0808c53461e9b51a603998d644c"
          ]
        },
        "id": "zxoK3U8gm1R1",
        "outputId": "d0141cc2-4a38-4b2a-bddd-6ea77240e8ee"
      },
      "outputs": [
        {
          "metadata": {
            "tags": null
          },
          "name": "stderr",
          "output_type": "stream",
          "text": [
            "/usr/local/lib/python3.11/dist-packages/huggingface_hub/utils/_auth.py:94: UserWarning: \n",
            "The secret `HF_TOKEN` does not exist in your Colab secrets.\n",
            "To authenticate with the Hugging Face Hub, create a token in your settings tab (https://huggingface.co/settings/tokens), set it as secret in your Google Colab and restart your session.\n",
            "You will be able to reuse this secret in all of your notebooks.\n",
            "Please note that authentication is recommended but still optional to access public models or datasets.\n",
            "  warnings.warn(\n"
          ]
        },
        {
          "data": {
            "application/vnd.jupyter.widget-view+json": {
              "model_id": "1e988d05e71a46aa833aee087ed60f53",
              "version_major": 2,
              "version_minor": 0
            },
            "text/plain": [
              "config.json:   0%|          | 0.00/69.7k [00:00<?, ?B/s]"
            ]
          },
          "metadata": {},
          "output_type": "display_data"
        },
        {
          "data": {
            "application/vnd.jupyter.widget-view+json": {
              "model_id": "9e68bb65d36e4aa89304108eb387066c",
              "version_major": 2,
              "version_minor": 0
            },
            "text/plain": [
              "model.safetensors:   0%|          | 0.00/115M [00:00<?, ?B/s]"
            ]
          },
          "metadata": {},
          "output_type": "display_data"
        },
        {
          "metadata": {
            "tags": null
          },
          "name": "stderr",
          "output_type": "stream",
          "text": [
            "Some weights of ConvNextV2ForImageClassification were not initialized from the model checkpoint at facebook/convnextv2-tiny-1k-224 and are newly initialized because the shapes did not match:\n",
            "- classifier.bias: found shape torch.Size([1000]) in the checkpoint and torch.Size([12]) in the model instantiated\n",
            "- classifier.weight: found shape torch.Size([1000, 768]) in the checkpoint and torch.Size([12, 768]) in the model instantiated\n",
            "You should probably TRAIN this model on a down-stream task to be able to use it for predictions and inference.\n",
            "[Train] Epoch 1/20: 100%|██████████| 485/485 [03:33<00:00,  2.27it/s]\n"
          ]
        },
        {
          "metadata": {
            "tags": null
          },
          "name": "stdout",
          "output_type": "stream",
          "text": [
            "[v2] Epoch 1 — Train Loss: 2.1408, Accuracy: 0.4120\n"
          ]
        },
        {
          "metadata": {
            "tags": null
          },
          "name": "stderr",
          "output_type": "stream",
          "text": [
            "[Val] Epoch 1/20: 100%|██████████| 122/122 [00:54<00:00,  2.25it/s]\n"
          ]
        },
        {
          "metadata": {
            "tags": null
          },
          "name": "stdout",
          "output_type": "stream",
          "text": [
            "[v2] Epoch 1 — Val Loss: 1.8915, Accuracy: 0.4811\n",
            "Time: 267.68 sec\n",
            "\n",
            "Best model saved to: /content/drive/MyDrive/SHREC2020/saved_models/best_convnextv2_hf.pth\n"
          ]
        },
        {
          "metadata": {
            "tags": null
          },
          "name": "stderr",
          "output_type": "stream",
          "text": [
            "[Train] Epoch 2/20: 100%|██████████| 485/485 [03:44<00:00,  2.16it/s]\n"
          ]
        },
        {
          "metadata": {
            "tags": null
          },
          "name": "stdout",
          "output_type": "stream",
          "text": [
            "[v2] Epoch 2 — Train Loss: 1.7295, Accuracy: 0.5742\n"
          ]
        },
        {
          "metadata": {
            "tags": null
          },
          "name": "stderr",
          "output_type": "stream",
          "text": [
            "[Val] Epoch 2/20: 100%|██████████| 122/122 [00:59<00:00,  2.05it/s]\n"
          ]
        },
        {
          "metadata": {
            "tags": null
          },
          "name": "stdout",
          "output_type": "stream",
          "text": [
            "[v2] Epoch 2 — Val Loss: 1.6161, Accuracy: 0.5856\n",
            "Time: 284.14 sec\n",
            "\n",
            "Best model saved to: /content/drive/MyDrive/SHREC2020/saved_models/best_convnextv2_hf.pth\n"
          ]
        },
        {
          "metadata": {
            "tags": null
          },
          "name": "stderr",
          "output_type": "stream",
          "text": [
            "[Train] Epoch 3/20: 100%|██████████| 485/485 [04:01<00:00,  2.01it/s]\n"
          ]
        },
        {
          "metadata": {
            "tags": null
          },
          "name": "stdout",
          "output_type": "stream",
          "text": [
            "[v2] Epoch 3 — Train Loss: 1.5146, Accuracy: 0.6291\n"
          ]
        },
        {
          "metadata": {
            "tags": null
          },
          "name": "stderr",
          "output_type": "stream",
          "text": [
            "[Val] Epoch 3/20: 100%|██████████| 122/122 [01:03<00:00,  1.92it/s]\n"
          ]
        },
        {
          "metadata": {
            "tags": null
          },
          "name": "stdout",
          "output_type": "stream",
          "text": [
            "[v2] Epoch 3 — Val Loss: 1.4531, Accuracy: 0.6070\n",
            "Time: 305.06 sec\n",
            "\n",
            "Best model saved to: /content/drive/MyDrive/SHREC2020/saved_models/best_convnextv2_hf.pth\n"
          ]
        },
        {
          "metadata": {
            "tags": null
          },
          "name": "stderr",
          "output_type": "stream",
          "text": [
            "[Train] Epoch 4/20: 100%|██████████| 485/485 [04:00<00:00,  2.02it/s]\n"
          ]
        },
        {
          "metadata": {
            "tags": null
          },
          "name": "stdout",
          "output_type": "stream",
          "text": [
            "[v2] Epoch 4 — Train Loss: 1.3754, Accuracy: 0.6566\n"
          ]
        },
        {
          "metadata": {
            "tags": null
          },
          "name": "stderr",
          "output_type": "stream",
          "text": [
            "[Val] Epoch 4/20: 100%|██████████| 122/122 [01:00<00:00,  2.01it/s]\n"
          ]
        },
        {
          "metadata": {
            "tags": null
          },
          "name": "stdout",
          "output_type": "stream",
          "text": [
            "[v2] Epoch 4 — Val Loss: 1.3381, Accuracy: 0.6402\n",
            "Time: 301.43 sec\n",
            "\n",
            "Best model saved to: /content/drive/MyDrive/SHREC2020/saved_models/best_convnextv2_hf.pth\n"
          ]
        },
        {
          "metadata": {
            "tags": null
          },
          "name": "stderr",
          "output_type": "stream",
          "text": [
            "[Train] Epoch 5/20: 100%|██████████| 485/485 [04:00<00:00,  2.01it/s]\n"
          ]
        },
        {
          "metadata": {
            "tags": null
          },
          "name": "stdout",
          "output_type": "stream",
          "text": [
            "[v2] Epoch 5 — Train Loss: 1.2747, Accuracy: 0.6758\n"
          ]
        },
        {
          "metadata": {
            "tags": null
          },
          "name": "stderr",
          "output_type": "stream",
          "text": [
            "[Val] Epoch 5/20: 100%|██████████| 122/122 [01:03<00:00,  1.92it/s]\n"
          ]
        },
        {
          "metadata": {
            "tags": null
          },
          "name": "stdout",
          "output_type": "stream",
          "text": [
            "[v2] Epoch 5 — Val Loss: 1.2518, Accuracy: 0.6608\n",
            "Time: 304.51 sec\n",
            "\n",
            "Best model saved to: /content/drive/MyDrive/SHREC2020/saved_models/best_convnextv2_hf.pth\n",
            "[INFO] Unfreezing encoder stage 3...\n"
          ]
        },
        {
          "metadata": {
            "tags": null
          },
          "name": "stderr",
          "output_type": "stream",
          "text": [
            "[Train] Epoch 6/20: 100%|██████████| 485/485 [04:19<00:00,  1.87it/s]\n"
          ]
        },
        {
          "metadata": {
            "tags": null
          },
          "name": "stdout",
          "output_type": "stream",
          "text": [
            "[v2] Epoch 6 — Train Loss: 0.6521, Accuracy: 0.8117\n"
          ]
        },
        {
          "metadata": {
            "tags": null
          },
          "name": "stderr",
          "output_type": "stream",
          "text": [
            "[Val] Epoch 6/20: 100%|██████████| 122/122 [01:02<00:00,  1.94it/s]\n"
          ]
        },
        {
          "metadata": {
            "tags": null
          },
          "name": "stdout",
          "output_type": "stream",
          "text": [
            "[v2] Epoch 6 — Val Loss: 0.3847, Accuracy: 0.8720\n",
            "Time: 321.96 sec\n",
            "\n",
            "Best model saved to: /content/drive/MyDrive/SHREC2020/saved_models/best_convnextv2_hf.pth\n"
          ]
        },
        {
          "metadata": {
            "tags": null
          },
          "name": "stderr",
          "output_type": "stream",
          "text": [
            "[Train] Epoch 7/20: 100%|██████████| 485/485 [04:10<00:00,  1.93it/s]\n"
          ]
        },
        {
          "metadata": {
            "tags": null
          },
          "name": "stdout",
          "output_type": "stream",
          "text": [
            "[v2] Epoch 7 — Train Loss: 0.2519, Accuracy: 0.9325\n"
          ]
        },
        {
          "metadata": {
            "tags": null
          },
          "name": "stderr",
          "output_type": "stream",
          "text": [
            "[Val] Epoch 7/20: 100%|██████████| 122/122 [01:01<00:00,  1.99it/s]\n"
          ]
        },
        {
          "metadata": {
            "tags": null
          },
          "name": "stdout",
          "output_type": "stream",
          "text": [
            "[v2] Epoch 7 — Val Loss: 0.1823, Accuracy: 0.9464\n",
            "Time: 312.18 sec\n",
            "\n",
            "Best model saved to: /content/drive/MyDrive/SHREC2020/saved_models/best_convnextv2_hf.pth\n"
          ]
        },
        {
          "metadata": {
            "tags": null
          },
          "name": "stderr",
          "output_type": "stream",
          "text": [
            "[Train] Epoch 8/20: 100%|██████████| 485/485 [04:11<00:00,  1.93it/s]\n"
          ]
        },
        {
          "metadata": {
            "tags": null
          },
          "name": "stdout",
          "output_type": "stream",
          "text": [
            "[v2] Epoch 8 — Train Loss: 0.1363, Accuracy: 0.9676\n"
          ]
        },
        {
          "metadata": {
            "tags": null
          },
          "name": "stderr",
          "output_type": "stream",
          "text": [
            "[Val] Epoch 8/20: 100%|██████████| 122/122 [01:04<00:00,  1.89it/s]\n"
          ]
        },
        {
          "metadata": {
            "tags": null
          },
          "name": "stdout",
          "output_type": "stream",
          "text": [
            "[v2] Epoch 8 — Val Loss: 0.1169, Accuracy: 0.9686\n",
            "Time: 315.82 sec\n",
            "\n",
            "Best model saved to: /content/drive/MyDrive/SHREC2020/saved_models/best_convnextv2_hf.pth\n"
          ]
        },
        {
          "metadata": {
            "tags": null
          },
          "name": "stderr",
          "output_type": "stream",
          "text": [
            "[Train] Epoch 9/20: 100%|██████████| 485/485 [04:20<00:00,  1.86it/s]\n"
          ]
        },
        {
          "metadata": {
            "tags": null
          },
          "name": "stdout",
          "output_type": "stream",
          "text": [
            "[v2] Epoch 9 — Train Loss: 0.0876, Accuracy: 0.9793\n"
          ]
        },
        {
          "metadata": {
            "tags": null
          },
          "name": "stderr",
          "output_type": "stream",
          "text": [
            "[Val] Epoch 9/20: 100%|██████████| 122/122 [01:03<00:00,  1.92it/s]\n"
          ]
        },
        {
          "metadata": {
            "tags": null
          },
          "name": "stdout",
          "output_type": "stream",
          "text": [
            "[v2] Epoch 9 — Val Loss: 0.0898, Accuracy: 0.9766\n",
            "Time: 323.81 sec\n",
            "\n",
            "Best model saved to: /content/drive/MyDrive/SHREC2020/saved_models/best_convnextv2_hf.pth\n"
          ]
        },
        {
          "metadata": {
            "tags": null
          },
          "name": "stderr",
          "output_type": "stream",
          "text": [
            "[Train] Epoch 10/20: 100%|██████████| 485/485 [04:16<00:00,  1.89it/s]\n"
          ]
        },
        {
          "metadata": {
            "tags": null
          },
          "name": "stdout",
          "output_type": "stream",
          "text": [
            "[v2] Epoch 10 — Train Loss: 0.0620, Accuracy: 0.9860\n"
          ]
        },
        {
          "metadata": {
            "tags": null
          },
          "name": "stderr",
          "output_type": "stream",
          "text": [
            "[Val] Epoch 10/20: 100%|██████████| 122/122 [01:07<00:00,  1.80it/s]\n"
          ]
        },
        {
          "metadata": {
            "tags": null
          },
          "name": "stdout",
          "output_type": "stream",
          "text": [
            "[v2] Epoch 10 — Val Loss: 0.0646, Accuracy: 0.9848\n",
            "Time: 324.09 sec\n",
            "\n",
            "Best model saved to: /content/drive/MyDrive/SHREC2020/saved_models/best_convnextv2_hf.pth\n"
          ]
        },
        {
          "metadata": {
            "tags": null
          },
          "name": "stderr",
          "output_type": "stream",
          "text": [
            "[Train] Epoch 11/20: 100%|██████████| 485/485 [04:33<00:00,  1.77it/s]\n"
          ]
        },
        {
          "metadata": {
            "tags": null
          },
          "name": "stdout",
          "output_type": "stream",
          "text": [
            "[v2] Epoch 11 — Train Loss: 0.0445, Accuracy: 0.9912\n"
          ]
        },
        {
          "metadata": {
            "tags": null
          },
          "name": "stderr",
          "output_type": "stream",
          "text": [
            "[Val] Epoch 11/20: 100%|██████████| 122/122 [01:10<00:00,  1.74it/s]\n"
          ]
        },
        {
          "metadata": {
            "tags": null
          },
          "name": "stdout",
          "output_type": "stream",
          "text": [
            "[v2] Epoch 11 — Val Loss: 0.0532, Accuracy: 0.9874\n",
            "Time: 344.02 sec\n",
            "\n",
            "Best model saved to: /content/drive/MyDrive/SHREC2020/saved_models/best_convnextv2_hf.pth\n"
          ]
        },
        {
          "metadata": {
            "tags": null
          },
          "name": "stderr",
          "output_type": "stream",
          "text": [
            "[Train] Epoch 12/20: 100%|██████████| 485/485 [04:32<00:00,  1.78it/s]\n"
          ]
        },
        {
          "metadata": {
            "tags": null
          },
          "name": "stdout",
          "output_type": "stream",
          "text": [
            "[v2] Epoch 12 — Train Loss: 0.0326, Accuracy: 0.9941\n"
          ]
        },
        {
          "metadata": {
            "tags": null
          },
          "name": "stderr",
          "output_type": "stream",
          "text": [
            "[Val] Epoch 12/20: 100%|██████████| 122/122 [01:08<00:00,  1.77it/s]\n"
          ]
        },
        {
          "metadata": {
            "tags": null
          },
          "name": "stdout",
          "output_type": "stream",
          "text": [
            "[v2] Epoch 12 — Val Loss: 0.0470, Accuracy: 0.9864\n",
            "Time: 341.52 sec\n",
            "\n",
            "[INFO] Early stopping counter: 1/3\n"
          ]
        },
        {
          "metadata": {
            "tags": null
          },
          "name": "stderr",
          "output_type": "stream",
          "text": [
            "[Train] Epoch 13/20: 100%|██████████| 485/485 [04:31<00:00,  1.79it/s]\n"
          ]
        },
        {
          "metadata": {
            "tags": null
          },
          "name": "stdout",
          "output_type": "stream",
          "text": [
            "[v2] Epoch 13 — Train Loss: 0.0245, Accuracy: 0.9960\n"
          ]
        },
        {
          "metadata": {
            "tags": null
          },
          "name": "stderr",
          "output_type": "stream",
          "text": [
            "[Val] Epoch 13/20: 100%|██████████| 122/122 [01:07<00:00,  1.82it/s]\n"
          ]
        },
        {
          "metadata": {
            "tags": null
          },
          "name": "stdout",
          "output_type": "stream",
          "text": [
            "[v2] Epoch 13 — Val Loss: 0.0431, Accuracy: 0.9876\n",
            "Time: 338.64 sec\n",
            "\n",
            "Best model saved to: /content/drive/MyDrive/SHREC2020/saved_models/best_convnextv2_hf.pth\n"
          ]
        },
        {
          "metadata": {
            "tags": null
          },
          "name": "stderr",
          "output_type": "stream",
          "text": [
            "[Train] Epoch 14/20: 100%|██████████| 485/485 [04:31<00:00,  1.78it/s]\n"
          ]
        },
        {
          "metadata": {
            "tags": null
          },
          "name": "stdout",
          "output_type": "stream",
          "text": [
            "[v2] Epoch 14 — Train Loss: 0.0180, Accuracy: 0.9978\n"
          ]
        },
        {
          "metadata": {
            "tags": null
          },
          "name": "stderr",
          "output_type": "stream",
          "text": [
            "[Val] Epoch 14/20: 100%|██████████| 122/122 [01:10<00:00,  1.73it/s]\n"
          ]
        },
        {
          "metadata": {
            "tags": null
          },
          "name": "stdout",
          "output_type": "stream",
          "text": [
            "[v2] Epoch 14 — Val Loss: 0.0343, Accuracy: 0.9923\n",
            "Time: 342.66 sec\n",
            "\n",
            "Best model saved to: /content/drive/MyDrive/SHREC2020/saved_models/best_convnextv2_hf.pth\n"
          ]
        },
        {
          "metadata": {
            "tags": null
          },
          "name": "stderr",
          "output_type": "stream",
          "text": [
            "[Train] Epoch 15/20: 100%|██████████| 485/485 [04:29<00:00,  1.80it/s]\n"
          ]
        },
        {
          "metadata": {
            "tags": null
          },
          "name": "stdout",
          "output_type": "stream",
          "text": [
            "[v2] Epoch 15 — Train Loss: 0.0137, Accuracy: 0.9984\n"
          ]
        },
        {
          "metadata": {
            "tags": null
          },
          "name": "stderr",
          "output_type": "stream",
          "text": [
            "[Val] Epoch 15/20: 100%|██████████| 122/122 [01:09<00:00,  1.76it/s]\n"
          ]
        },
        {
          "metadata": {
            "tags": null
          },
          "name": "stdout",
          "output_type": "stream",
          "text": [
            "[v2] Epoch 15 — Val Loss: 0.0296, Accuracy: 0.9915\n",
            "Time: 339.07 sec\n",
            "\n",
            "[INFO] Early stopping counter: 1/3\n"
          ]
        },
        {
          "metadata": {
            "tags": null
          },
          "name": "stderr",
          "output_type": "stream",
          "text": [
            "[Train] Epoch 16/20: 100%|██████████| 485/485 [04:30<00:00,  1.80it/s]\n"
          ]
        },
        {
          "metadata": {
            "tags": null
          },
          "name": "stdout",
          "output_type": "stream",
          "text": [
            "[v2] Epoch 16 — Train Loss: 0.0098, Accuracy: 0.9994\n"
          ]
        },
        {
          "metadata": {
            "tags": null
          },
          "name": "stderr",
          "output_type": "stream",
          "text": [
            "[Val] Epoch 16/20: 100%|██████████| 122/122 [01:07<00:00,  1.80it/s]\n"
          ]
        },
        {
          "metadata": {
            "tags": null
          },
          "name": "stdout",
          "output_type": "stream",
          "text": [
            "[v2] Epoch 16 — Val Loss: 0.0282, Accuracy: 0.9923\n",
            "Time: 337.96 sec\n",
            "\n",
            "[INFO] Early stopping counter: 2/3\n"
          ]
        },
        {
          "metadata": {
            "tags": null
          },
          "name": "stderr",
          "output_type": "stream",
          "text": [
            "[Train] Epoch 17/20: 100%|██████████| 485/485 [04:33<00:00,  1.77it/s]\n"
          ]
        },
        {
          "metadata": {
            "tags": null
          },
          "name": "stdout",
          "output_type": "stream",
          "text": [
            "[v2] Epoch 17 — Train Loss: 0.0074, Accuracy: 0.9996\n"
          ]
        },
        {
          "output_type": "stream",
          "name": "stderr",
          "text": [
            "[Val] Epoch 17/20: 100%|██████████| 122/122 [01:10<00:00,  1.73it/s]"
          ]
        },
        {
          "output_type": "stream",
          "name": "stdout",
          "text": [
            "[v2] Epoch 17 — Val Loss: 0.0291, Accuracy: 0.9915\n",
            "Time: 344.24 sec\n",
            "\n",
            "[INFO] Early stopping counter: 3/3\n",
            "[EARLY STOPPING] Validation performance has not improved.\n"
          ]
        },
        {
          "output_type": "stream",
          "name": "stderr",
          "text": [
            "\n"
          ]
        }
      ],
      "source": [
        "# Train ConvNeXt V2 (Hugging Face version)\n",
        "v2_metrics = train_and_validate(\n",
        "    model_type='v2',\n",
        "    save_path='/content/drive/MyDrive/SHREC2020/saved_models/best_convnextv2_hf.pth',\n",
        "    epochs= 20,\n",
        "    resume= False\n",
        ")\n"
      ]
    },
    {
      "cell_type": "markdown",
      "source": [
        "### Visualize the loss and accuracy curves to make sure that ConvNext v1 is not overfiting"
      ],
      "metadata": {
        "id": "kSwOEPjOCFID"
      }
    },
    {
      "cell_type": "code",
      "execution_count": null,
      "metadata": {
        "id": "WU86LxVFpLXa",
        "colab": {
          "base_uri": "https://localhost:8080/",
          "height": 992
        },
        "outputId": "1d6934c6-5905-40c7-e884-8c0534757cb2"
      },
      "outputs": [
        {
          "output_type": "display_data",
          "data": {
            "text/plain": [
              "<Figure size 800x500 with 1 Axes>"
            ],
            "image/png": "[encoded data removed]"
          },
          "metadata": {}
        },
        {
          "output_type": "display_data",
          "data": {
            "text/plain": [
              "<Figure size 640x480 with 0 Axes>"
            ]
          },
          "metadata": {}
        },
        {
          "output_type": "display_data",
          "data": {
            "text/plain": [
              "<Figure size 800x500 with 1 Axes>"
            ],
            "image/png": "[encoded data removed]"
          },
          "metadata": {}
        },
        {
          "output_type": "display_data",
          "data": {
            "text/plain": [
              "<Figure size 640x480 with 0 Axes>"
            ]
          },
          "metadata": {}
        }
      ],
      "source": [
        "loss_curve_plot(v2_metrics)\n",
        "plt.savefig('v2_Training_Validation_Loss_Curve.png')\n",
        "acc_curve_plot(v2_metrics)\n",
        "plt.savefig('v2_Training_Validation_Accuracy_Curve.png')"
      ]
    },
    {
      "cell_type": "markdown",
      "metadata": {
        "id": "F8Utl2qKphDY"
      },
      "source": [
        "## Inference (Test) Pipeline on Tomogram 9"
      ]
    },
    {
      "cell_type": "code",
      "execution_count": null,
      "metadata": {
        "id": "N0Bt1WpZw6H5"
      },
      "outputs": [],
      "source": [
        "def run_inference(model_type, ckpt_path, output_csv_name):\n",
        "    print(f\"\\nRunning inference with {model_type}...\")\n",
        "\n",
        "    # Create and load the model\n",
        "    model = create_model(model_type)\n",
        "    model.load_state_dict(torch.load(ckpt_path, map_location=device))\n",
        "    model.to(device)\n",
        "    model.eval()\n",
        "\n",
        "    all_preds, all_labels, coordinates = [], [], []\n",
        "    patch_size = 48\n",
        "    half = patch_size // 2\n",
        "    shape_z, shape_y, shape_x = volume.shape\n",
        "\n",
        "    start_time = time.time()\n",
        "\n",
        "    for i, (pdb_id, x, y, z, *_) in enumerate(tqdm(particles, desc=\"Running inference\")):\n",
        "        # Convert coordinates to integers\n",
        "        x, y, z = int(float(x)), int(float(y)), int(float(z))\n",
        "\n",
        "        # Check that the patch is fully within the volume\n",
        "        if (x - half < 0 or y - half < 0 or z - half < 0 or\n",
        "            x + half >= shape_x or y + half >= shape_y or z + half >= shape_z):\n",
        "            continue\n",
        "\n",
        "        # Extract a patch (cube) centered at the particle location\n",
        "        patch = volume[z-half:z+half, y-half:y+half, x-half:x+half]\n",
        "\n",
        "        # Extract the central slices for each view:\n",
        "        xy_img = Image.fromarray(normalize_to_uint8(patch[half, :, :])).convert('RGB')\n",
        "        xz_img = Image.fromarray(normalize_to_uint8(patch[:, half, :])).convert('RGB')\n",
        "        yz_img = Image.fromarray(normalize_to_uint8(patch[:, :, half])).convert('RGB')\n",
        "\n",
        "        # Transform the images to tensors\n",
        "        xy_tensor = transform(xy_img)\n",
        "        xz_tensor = transform(xz_img)\n",
        "        yz_tensor = transform(yz_img)\n",
        "\n",
        "        # Create a triplet tensor (3 views); shape: [3, 3, 224, 224]\n",
        "        triplet = torch.stack([xy_tensor, xz_tensor, yz_tensor])\n",
        "        # Add a batch dimension: shape becomes [1, 3, 3, 224, 224]\n",
        "        triplet = triplet.unsqueeze(0).to(device)\n",
        "\n",
        "        # Get dimensions and reshape to merge batch and view dimensions\n",
        "        B, V, C, H, W = triplet.shape  # Expected B=1, V=3, C=3, H=224, W=224\n",
        "        triplet = triplet.view(B * V, C, H, W)\n",
        "\n",
        "        # Run inference with mixed precision\n",
        "        with torch.no_grad(), torch.amp.autocast(device_type='cuda'):\n",
        "            outputs = model(pixel_values=triplet)\n",
        "            # Reshape logits to [B, V, num_labels] and average over the views\n",
        "            logits = outputs.logits.view(B, V, -1).mean(1)\n",
        "            pred = torch.argmax(logits, dim=1).item()\n",
        "\n",
        "        # Collect predictions, ground truth, and coordinates\n",
        "        all_preds.append(pred)\n",
        "        all_labels.append(pdb_to_idx[pdb_id])\n",
        "        coordinates.append((x, y, z))\n",
        "\n",
        "    elapsed = time.time() - start_time\n",
        "    print(f\"Inference time for {model_type}: {elapsed:.2f} seconds\")\n",
        "\n",
        "    # Save predictions to a CSV file\n",
        "    csv_path = os.path.join('/content/', output_csv_name)\n",
        "    with open(csv_path, 'w', newline='') as f:\n",
        "        writer = csv.writer(f)\n",
        "        writer.writerow(['pred_class', 'true_class', 'x', 'y', 'z'])\n",
        "        for pred, true, (x, y, z) in zip(all_preds, all_labels, coordinates):\n",
        "            writer.writerow([idx_to_pdb[pred], idx_to_pdb[true], x, y, z])\n",
        "    files.download(csv_path)\n",
        "    # Calculate metrics\n",
        "    acc = accuracy_score(all_labels, all_preds)\n",
        "    prec = precision_score(all_labels, all_preds, average='macro', zero_division=0)\n",
        "    rec = recall_score(all_labels, all_preds, average='macro', zero_division=0)\n",
        "    f1 = f1_score(all_labels, all_preds, average='macro', zero_division=0)\n",
        "\n",
        "    print(f\"\\nEvaluation for {model_type}:\")\n",
        "    print(f\"Accuracy  : {acc:.4f}\")\n",
        "    print(f\"Precision : {prec:.4f}\")\n",
        "    print(f\"Recall    : {rec:.4f}\")\n",
        "    print(f\"F1 Score  : {f1:.4f}\")\n",
        "    print(\"\\nDetailed Classification Report:\\n\")\n",
        "    print(classification_report(all_labels, all_preds, target_names=[idx_to_pdb[i] for i in range(12)], zero_division=0))\n"
      ]
    },
    {
      "cell_type": "markdown",
      "source": [
        "### Helper function for inference performance comparitive visualization\n"
      ],
      "metadata": {
        "id": "W5yFM_qGpEcr"
      }
    },
    {
      "cell_type": "code",
      "source": [
        "def compare_models(csv1, csv2, model1_name=\"Model 1\", model2_name=\"Model 2\", save_path=None):\n",
        "    \"\"\"\n",
        "    Compares two classification models using their prediction CSVs.\n",
        "\n",
        "    Args:\n",
        "        csv1 (str): Path to Model 1 predictions CSV.\n",
        "        csv2 (str): Path to Model 2 predictions CSV.\n",
        "        model1_name (str): Name label for Model 1.\n",
        "        model2_name (str): Name label for Model 2.\n",
        "        save_path (str): Optional folder to save comparison plots.\n",
        "    \"\"\"\n",
        "    # Load both predictions\n",
        "    df1 = pd.read_csv(csv1)\n",
        "    df2 = pd.read_csv(csv2)\n",
        "\n",
        "    # Extract data\n",
        "    y_true1, y_pred1 = df1['true_class'], df1['pred_class']\n",
        "    y_true2, y_pred2 = df2['true_class'], df2['pred_class']\n",
        "    labels = sorted(df1['true_class'].unique())\n",
        "\n",
        "    # --- Metrics summary ---\n",
        "    report1 = classification_report(y_true1, y_pred1, labels=labels, output_dict=True)\n",
        "    report2 = classification_report(y_true2, y_pred2, labels=labels, output_dict=True)\n",
        "\n",
        "    print(f\"\\n📋 {model1_name} Macro Metrics:\")\n",
        "    print(f\"Accuracy: {report1['accuracy']:.4f}, Precision: {report1['macro avg']['precision']:.4f}, \"\n",
        "          f\"Recall: {report1['macro avg']['recall']:.4f}, F1: {report1['macro avg']['f1-score']:.4f}\")\n",
        "\n",
        "    print(f\"\\n📋 {model2_name} Macro Metrics:\")\n",
        "    print(f\"Accuracy: {report2['accuracy']:.4f}, Precision: {report2['macro avg']['precision']:.4f}, \"\n",
        "          f\"Recall: {report2['macro avg']['recall']:.4f}, F1: {report2['macro avg']['f1-score']:.4f}\")\n",
        "\n",
        "    # --- 1. F1-score per class comparison ---\n",
        "    f1_1 = [report1[str(label)]['f1-score'] for label in labels]\n",
        "    f1_2 = [report2[str(label)]['f1-score'] for label in labels]\n",
        "\n",
        "    x = np.arange(len(labels))\n",
        "    width = 0.35\n",
        "\n",
        "    plt.figure(figsize=(12, 5))\n",
        "    plt.bar(x - width/2, f1_1, width, label=model1_name)\n",
        "    plt.bar(x + width/2, f1_2, width, label=model2_name)\n",
        "    plt.xticks(x, labels, rotation=45)\n",
        "    plt.ylabel('F1 Score')\n",
        "    plt.title('Class-wise F1 Score Comparison')\n",
        "    plt.legend()\n",
        "    plt.tight_layout()\n",
        "    if save_path:\n",
        "        plt.savefig(os.path.join(save_path, \"f1_score_comparison.png\"))\n",
        "    plt.show()\n",
        "\n",
        "    # --- 2. Confusion Matrices ---\n",
        "    fig, axs = plt.subplots(1, 2, figsize=(16, 6))\n",
        "\n",
        "    cm1 = confusion_matrix(y_true1, y_pred1, labels=labels)\n",
        "    cm2 = confusion_matrix(y_true2, y_pred2, labels=labels)\n",
        "\n",
        "    sns.heatmap(cm1, annot=True, fmt='d', cmap='Blues', xticklabels=labels, yticklabels=labels, ax=axs[0])\n",
        "    axs[0].set_title(f'{model1_name} Confusion Matrix')\n",
        "    axs[0].set_xlabel('Predicted')\n",
        "    axs[0].set_ylabel('True')\n",
        "\n",
        "    sns.heatmap(cm2, annot=True, fmt='d', cmap='Greens', xticklabels=labels, yticklabels=labels, ax=axs[1])\n",
        "    axs[1].set_title(f'{model2_name} Confusion Matrix')\n",
        "    axs[1].set_xlabel('Predicted')\n",
        "    axs[1].set_ylabel('True')\n",
        "\n",
        "    plt.tight_layout()\n",
        "    if save_path:\n",
        "        plt.savefig(os.path.join(save_path, \"confusion_matrices_comparison.png\"))\n",
        "    plt.show()\n"
      ],
      "metadata": {
        "id": "XOmZDGE6eHaO"
      },
      "execution_count": null,
      "outputs": []
    },
    {
      "cell_type": "markdown",
      "metadata": {
        "id": "cSTjIzBxphDe"
      },
      "source": [
        "## Performance Evaluation on the Test set (Tomogram 9) for both of the ConvNext V1 and V2 Models\n",
        "\n",
        "---"
      ]
    },
    {
      "cell_type": "markdown",
      "metadata": {
        "id": "jIKlXXyAphDf"
      },
      "source": [
        "### Run inference for ConvNext v1"
      ]
    },
    {
      "cell_type": "code",
      "execution_count": null,
      "metadata": {
        "colab": {
          "base_uri": "https://localhost:8080/",
          "height": 662
        },
        "id": "GaH-R_Hyw76d",
        "outputId": "9b45d316-9516-42cb-a445-9e3ab483de8d"
      },
      "outputs": [
        {
          "output_type": "stream",
          "name": "stdout",
          "text": [
            "\n",
            "Running inference with v1...\n"
          ]
        },
        {
          "output_type": "stream",
          "name": "stderr",
          "text": [
            "Some weights of ConvNextForImageClassification were not initialized from the model checkpoint at facebook/convnext-tiny-224 and are newly initialized because the shapes did not match:\n",
            "- classifier.weight: found shape torch.Size([1000, 768]) in the checkpoint and torch.Size([12, 768]) in the model instantiated\n",
            "- classifier.bias: found shape torch.Size([1000]) in the checkpoint and torch.Size([12]) in the model instantiated\n",
            "You should probably TRAIN this model on a down-stream task to be able to use it for predictions and inference.\n",
            "Running inference: 100%|██████████| 2782/2782 [00:36<00:00, 75.99it/s]"
          ]
        },
        {
          "output_type": "stream",
          "name": "stdout",
          "text": [
            "Inference time for v1: 36.61 seconds\n"
          ]
        },
        {
          "output_type": "stream",
          "name": "stderr",
          "text": [
            "\n"
          ]
        },
        {
          "output_type": "display_data",
          "data": {
            "text/plain": [
              "<IPython.core.display.Javascript object>"
            ],
            "application/javascript": [
              "\n",
              "    async function download(id, filename, size) {\n",
              "      if (!google.colab.kernel.accessAllowed) {\n",
              "        return;\n",
              "      }\n",
              "      const div = document.createElement('div');\n",
              "      const label = document.createElement('label');\n",
              "      label.textContent = `Downloading \"${filename}\": `;\n",
              "      div.appendChild(label);\n",
              "      const progress = document.createElement('progress');\n",
              "      progress.max = size;\n",
              "      div.appendChild(progress);\n",
              "      document.body.appendChild(div);\n",
              "\n",
              "      const buffers = [];\n",
              "      let downloaded = 0;\n",
              "\n",
              "      const channel = await google.colab.kernel.comms.open(id);\n",
              "      // Send a message to notify the kernel that we're ready.\n",
              "      channel.send({})\n",
              "\n",
              "      for await (const message of channel.messages) {\n",
              "        // Send a message to notify the kernel that we're ready.\n",
              "        channel.send({})\n",
              "        if (message.buffers) {\n",
              "          for (const buffer of message.buffers) {\n",
              "            buffers.push(buffer);\n",
              "            downloaded += buffer.byteLength;\n",
              "            progress.value = downloaded;\n",
              "          }\n",
              "        }\n",
              "      }\n",
              "      const blob = new Blob(buffers, {type: 'application/binary'});\n",
              "      const a = document.createElement('a');\n",
              "      a.href = window.URL.createObjectURL(blob);\n",
              "      a.download = filename;\n",
              "      div.appendChild(a);\n",
              "      a.click();\n",
              "      div.remove();\n",
              "    }\n",
              "  "
            ]
          },
          "metadata": {}
        },
        {
          "output_type": "display_data",
          "data": {
            "text/plain": [
              "<IPython.core.display.Javascript object>"
            ],
            "application/javascript": [
              "download(\"download_bd8a1d5f-8387-4b0b-853d-a07e0bf32d12\", \"predictions_model9_v1.csv\", 50358)"
            ]
          },
          "metadata": {}
        },
        {
          "output_type": "stream",
          "name": "stdout",
          "text": [
            "\n",
            "Evaluation for v1:\n",
            "Accuracy  : 0.9894\n",
            "Precision : 0.9887\n",
            "Recall    : 0.9887\n",
            "F1 Score  : 0.9887\n",
            "\n",
            "Detailed Classification Report:\n",
            "\n",
            "              precision    recall  f1-score   support\n",
            "\n",
            "        3cf3       1.00      1.00      1.00       202\n",
            "        1s3x       0.96      0.97      0.97       168\n",
            "        1u6g       0.98      0.99      0.99       178\n",
            "        4cr2       1.00      1.00      1.00       231\n",
            "        1qvr       1.00      1.00      1.00       213\n",
            "        3h84       1.00      0.99      1.00       194\n",
            "        2cg9       0.98      0.99      0.99       176\n",
            "        3qm1       0.96      0.97      0.97       177\n",
            "        3gl1       1.00      0.98      0.99       178\n",
            "        3d2f       0.98      0.98      0.98       168\n",
            "        4d8q       1.00      1.00      1.00       210\n",
            "        1bxn       1.00      1.00      1.00       177\n",
            "\n",
            "    accuracy                           0.99      2272\n",
            "   macro avg       0.99      0.99      0.99      2272\n",
            "weighted avg       0.99      0.99      0.99      2272\n",
            "\n"
          ]
        }
      ],
      "source": [
        "run_inference(\n",
        "    model_type='v1',\n",
        "    ckpt_path='/content/drive/MyDrive/SHREC2020/saved_models/best_convnextv1_hf.pth',\n",
        "    output_csv_name='predictions_model9_v1.csv'\n",
        ")"
      ]
    },
    {
      "cell_type": "markdown",
      "metadata": {
        "id": "RyxTvXAaphDf"
      },
      "source": [
        "### Run inference for ConvNext v2"
      ]
    },
    {
      "cell_type": "code",
      "execution_count": null,
      "metadata": {
        "id": "eqseDUQ1w9MA",
        "colab": {
          "base_uri": "https://localhost:8080/",
          "height": 662
        },
        "outputId": "89d52f23-63fa-4e9b-ee51-5bd4293ffd40"
      },
      "outputs": [
        {
          "output_type": "stream",
          "name": "stdout",
          "text": [
            "\n",
            "Running inference with v2...\n"
          ]
        },
        {
          "output_type": "stream",
          "name": "stderr",
          "text": [
            "Some weights of ConvNextV2ForImageClassification were not initialized from the model checkpoint at facebook/convnextv2-tiny-1k-224 and are newly initialized because the shapes did not match:\n",
            "- classifier.bias: found shape torch.Size([1000]) in the checkpoint and torch.Size([12]) in the model instantiated\n",
            "- classifier.weight: found shape torch.Size([1000, 768]) in the checkpoint and torch.Size([12, 768]) in the model instantiated\n",
            "You should probably TRAIN this model on a down-stream task to be able to use it for predictions and inference.\n",
            "Running inference: 100%|██████████| 2782/2782 [00:45<00:00, 61.46it/s]"
          ]
        },
        {
          "output_type": "stream",
          "name": "stdout",
          "text": [
            "Inference time for v2: 45.26 seconds\n"
          ]
        },
        {
          "output_type": "stream",
          "name": "stderr",
          "text": [
            "\n"
          ]
        },
        {
          "output_type": "display_data",
          "data": {
            "text/plain": [
              "<IPython.core.display.Javascript object>"
            ],
            "application/javascript": [
              "\n",
              "    async function download(id, filename, size) {\n",
              "      if (!google.colab.kernel.accessAllowed) {\n",
              "        return;\n",
              "      }\n",
              "      const div = document.createElement('div');\n",
              "      const label = document.createElement('label');\n",
              "      label.textContent = `Downloading \"${filename}\": `;\n",
              "      div.appendChild(label);\n",
              "      const progress = document.createElement('progress');\n",
              "      progress.max = size;\n",
              "      div.appendChild(progress);\n",
              "      document.body.appendChild(div);\n",
              "\n",
              "      const buffers = [];\n",
              "      let downloaded = 0;\n",
              "\n",
              "      const channel = await google.colab.kernel.comms.open(id);\n",
              "      // Send a message to notify the kernel that we're ready.\n",
              "      channel.send({})\n",
              "\n",
              "      for await (const message of channel.messages) {\n",
              "        // Send a message to notify the kernel that we're ready.\n",
              "        channel.send({})\n",
              "        if (message.buffers) {\n",
              "          for (const buffer of message.buffers) {\n",
              "            buffers.push(buffer);\n",
              "            downloaded += buffer.byteLength;\n",
              "            progress.value = downloaded;\n",
              "          }\n",
              "        }\n",
              "      }\n",
              "      const blob = new Blob(buffers, {type: 'application/binary'});\n",
              "      const a = document.createElement('a');\n",
              "      a.href = window.URL.createObjectURL(blob);\n",
              "      a.download = filename;\n",
              "      div.appendChild(a);\n",
              "      a.click();\n",
              "      div.remove();\n",
              "    }\n",
              "  "
            ]
          },
          "metadata": {}
        },
        {
          "output_type": "display_data",
          "data": {
            "text/plain": [
              "<IPython.core.display.Javascript object>"
            ],
            "application/javascript": [
              "download(\"download_c03fa191-0993-48a3-92ab-cd3d75de8ef0\", \"predictions_model9_v2.csv\", 50358)"
            ]
          },
          "metadata": {}
        },
        {
          "output_type": "stream",
          "name": "stdout",
          "text": [
            "\n",
            "Evaluation for v2:\n",
            "Accuracy  : 0.9868\n",
            "Precision : 0.9868\n",
            "Recall    : 0.9856\n",
            "F1 Score  : 0.9857\n",
            "\n",
            "Detailed Classification Report:\n",
            "\n",
            "              precision    recall  f1-score   support\n",
            "\n",
            "        3cf3       1.00      1.00      1.00       202\n",
            "        1s3x       0.99      0.89      0.94       168\n",
            "        1u6g       0.97      0.99      0.98       178\n",
            "        4cr2       1.00      1.00      1.00       231\n",
            "        1qvr       0.99      1.00      1.00       213\n",
            "        3h84       1.00      0.99      1.00       194\n",
            "        2cg9       1.00      0.97      0.98       176\n",
            "        3qm1       0.90      0.99      0.94       177\n",
            "        3gl1       0.99      0.99      0.99       178\n",
            "        3d2f       0.99      1.00      0.99       168\n",
            "        4d8q       1.00      1.00      1.00       210\n",
            "        1bxn       1.00      1.00      1.00       177\n",
            "\n",
            "    accuracy                           0.99      2272\n",
            "   macro avg       0.99      0.99      0.99      2272\n",
            "weighted avg       0.99      0.99      0.99      2272\n",
            "\n"
          ]
        }
      ],
      "source": [
        "run_inference(\n",
        "    model_type='v2',\n",
        "    ckpt_path='/content/drive/MyDrive/SHREC2020/saved_models/best_convnextv2_hf.pth',\n",
        "    output_csv_name='predictions_model9_v2.csv'\n",
        ")"
      ]
    },
    {
      "cell_type": "markdown",
      "metadata": {
        "id": "M9c0Ko7FphDf"
      },
      "source": [
        "### Inference Performace Comparative Analysis"
      ]
    },
    {
      "cell_type": "code",
      "source": [
        "compare_models('/content/predictions_model9_v1.csv', '/content/predictions_model9_v2.csv', 'ConvNeXt v1', 'ConvNeXt v2', '/content/')"
      ],
      "metadata": {
        "colab": {
          "base_uri": "https://localhost:8080/",
          "height": 1000
        },
        "id": "ZEOZOeHNnCbO",
        "outputId": "6785bfcd-ad07-4432-ea01-e2b164f26c6f"
      },
      "execution_count": null,
      "outputs": [
        {
          "output_type": "stream",
          "name": "stdout",
          "text": [
            "\n",
            "📋 ConvNeXt v1 Macro Metrics:\n",
            "Accuracy: 0.9894, Precision: 0.9887, Recall: 0.9887, F1: 0.9887\n",
            "\n",
            "📋 ConvNeXt v2 Macro Metrics:\n",
            "Accuracy: 0.9868, Precision: 0.9868, Recall: 0.9856, F1: 0.9857\n"
          ]
        },
        {
          "output_type": "display_data",
          "data": {
            "text/plain": [
              "<Figure size 1200x500 with 1 Axes>"
            ],
            "image/png": "[encoded data removed]"
          },
          "metadata": {}
        },
        {
          "output_type": "display_data",
          "data": {
            "text/plain": [
              "<Figure size 1600x600 with 4 Axes>"
            ],
            "image/png": "[encoded data removed]"
          },
          "metadata": {}
        }
      ]
    },
    {
      "cell_type": "markdown",
      "source": [
        "### Exporting the Classification Result Tables"
      ],
      "metadata": {
        "id": "04ucOwkuvH7f"
      }
    },
    {
      "cell_type": "code",
      "source": [
        "# Load both predictions\n",
        "df1 = pd.read_csv('/content/predictions_model9_v1.csv')\n",
        "df2 = pd.read_csv('/content/predictions_model9_v2.csv')\n",
        "\n",
        "# Extract data\n",
        "y_true1, y_pred1 = df1['true_class'], df1['pred_class']\n",
        "y_true2, y_pred2 = df2['true_class'], df2['pred_class']\n",
        "labels = sorted(df1['true_class'].unique())\n",
        "\n",
        "# Generate classification reports\n",
        "report1 = classification_report(y_true1, y_pred1, labels=labels, output_dict=True)\n",
        "report2 = classification_report(y_true2, y_pred2, labels=labels, output_dict=True)\n",
        "\n",
        "# Convert to DataFrames\n",
        "df_report1 = pd.DataFrame(report1).transpose()\n",
        "df_report2 = pd.DataFrame(report2).transpose()\n",
        "\n",
        "# Print the tables\n",
        "print(\"Classification Report for Model 9 v1 (Table Format):\")\n",
        "print(df_report1)\n",
        "print(\"\\nClassification Report for Model 9 v2 (Table Format):\")\n",
        "print(df_report2)\n",
        "\n",
        "# Save to Excel with openpyxl engine\n",
        "output_path = '/content/classification_reports_model9.xlsx'\n",
        "with pd.ExcelWriter(output_path, engine='openpyxl') as writer:\n",
        "    df_report1.to_excel(writer, sheet_name='Model9_v1_Report')\n",
        "    df_report2.to_excel(writer, sheet_name='Model9_v2_Report')\n",
        "\n",
        "print(f\"\\nReports saved to Excel at: {output_path}\")\n"
      ],
      "metadata": {
        "id": "b8CjM5zkDD0W",
        "colab": {
          "base_uri": "https://localhost:8080/"
        },
        "outputId": "2851e642-c3ef-4335-a8d8-aef6586d5bc7"
      },
      "execution_count": null,
      "outputs": [
        {
          "output_type": "stream",
          "name": "stdout",
          "text": [
            "Classification Report for Model 9 v1 (Table Format):\n",
            "              precision    recall  f1-score      support\n",
            "1bxn           1.000000  1.000000  1.000000   177.000000\n",
            "1qvr           0.995305  0.995305  0.995305   213.000000\n",
            "1s3x           0.964497  0.970238  0.967359   168.000000\n",
            "1u6g           0.983240  0.988764  0.985994   178.000000\n",
            "2cg9           0.983051  0.988636  0.985836   176.000000\n",
            "3cf3           0.995050  0.995050  0.995050   202.000000\n",
            "3d2f           0.982143  0.982143  0.982143   168.000000\n",
            "3gl1           1.000000  0.977528  0.988636   178.000000\n",
            "3h84           1.000000  0.994845  0.997416   194.000000\n",
            "3qm1           0.960894  0.971751  0.966292   177.000000\n",
            "4cr2           1.000000  1.000000  1.000000   231.000000\n",
            "4d8q           1.000000  1.000000  1.000000   210.000000\n",
            "accuracy       0.989437  0.989437  0.989437     0.989437\n",
            "macro avg      0.988682  0.988688  0.988669  2272.000000\n",
            "weighted avg   0.989502  0.989437  0.989454  2272.000000\n",
            "\n",
            "Classification Report for Model 9 v2 (Table Format):\n",
            "              precision    recall  f1-score      support\n",
            "1bxn           1.000000  1.000000  1.000000   177.000000\n",
            "1qvr           0.990698  1.000000  0.995327   213.000000\n",
            "1s3x           0.993377  0.892857  0.940439   168.000000\n",
            "1u6g           0.972527  0.994382  0.983333   178.000000\n",
            "2cg9           1.000000  0.965909  0.982659   176.000000\n",
            "3cf3           1.000000  1.000000  1.000000   202.000000\n",
            "3d2f           0.988235  1.000000  0.994083   168.000000\n",
            "3gl1           0.994382  0.994382  0.994382   178.000000\n",
            "3h84           1.000000  0.994845  0.997416   194.000000\n",
            "3qm1           0.902062  0.988701  0.943396   177.000000\n",
            "4cr2           1.000000  0.995671  0.997831   231.000000\n",
            "4d8q           1.000000  1.000000  1.000000   210.000000\n",
            "accuracy       0.986796  0.986796  0.986796     0.986796\n",
            "macro avg      0.986773  0.985562  0.985739  2272.000000\n",
            "weighted avg   0.987546  0.986796  0.986780  2272.000000\n",
            "\n",
            "Reports saved to Excel at: /content/classification_reports_model9.xlsx\n"
          ]
        }
      ]
    },
    {
      "cell_type": "code",
      "source": [],
      "metadata": {
        "id": "EWc4jRZrr07y"
      },
      "execution_count": null,
      "outputs": []
    }
  ],
  "metadata": {
    "colab": {
      "provenance": [],
      "toc_visible": true
    },
    "kernelspec": {
      "display_name": "Python 3",
      "name": "python3"
    },
    "language_info": {
      "name": "python"
    },
    "widgets": {
      "application/vnd.jupyter.widget-state+json": {
        "1e988d05e71a46aa833aee087ed60f53": {
          "model_module": "@jupyter-widgets/controls",
          "model_name": "HBoxModel",
          "model_module_version": "1.5.0",
          "state": {
            "_dom_classes": [],
            "_model_module": "@jupyter-widgets/controls",
            "_model_module_version": "1.5.0",
            "_model_name": "HBoxModel",
            "_view_count": null,
            "_view_module": "@jupyter-widgets/controls",
            "_view_module_version": "1.5.0",
            "_view_name": "HBoxView",
            "box_style": "",
            "children": [
              "IPY_MODEL_7f1cbf88fa394921b8f3624920653537",
              "IPY_MODEL_02e555f1da8249b4bf07c1ff4b83e444",
              "IPY_MODEL_864e566919134883820cfd620e3f33d2"
            ],
            "layout": "IPY_MODEL_21df6a4ff0e744c9b710ca8fc7bc9252"
          }
        },
        "7f1cbf88fa394921b8f3624920653537": {
          "model_module": "@jupyter-widgets/controls",
          "model_name": "HTMLModel",
          "model_module_version": "1.5.0",
          "state": {
            "_dom_classes": [],
            "_model_module": "@jupyter-widgets/controls",
            "_model_module_version": "1.5.0",
            "_model_name": "HTMLModel",
            "_view_count": null,
            "_view_module": "@jupyter-widgets/controls",
            "_view_module_version": "1.5.0",
            "_view_name": "HTMLView",
            "description": "",
            "description_tooltip": null,
            "layout": "IPY_MODEL_3320b1096439440ca4b2c3df9633bdbe",
            "placeholder": "​",
            "style": "IPY_MODEL_6e2804f525884f03ab617b90acebf4ca",
            "value": "config.json: 100%"
          }
        },
        "02e555f1da8249b4bf07c1ff4b83e444": {
          "model_module": "@jupyter-widgets/controls",
          "model_name": "FloatProgressModel",
          "model_module_version": "1.5.0",
          "state": {
            "_dom_classes": [],
            "_model_module": "@jupyter-widgets/controls",
            "_model_module_version": "1.5.0",
            "_model_name": "FloatProgressModel",
            "_view_count": null,
            "_view_module": "@jupyter-widgets/controls",
            "_view_module_version": "1.5.0",
            "_view_name": "ProgressView",
            "bar_style": "success",
            "description": "",
            "description_tooltip": null,
            "layout": "IPY_MODEL_b67e3a405bf14418bebd30a891c5c721",
            "max": 69724,
            "min": 0,
            "orientation": "horizontal",
            "style": "IPY_MODEL_d4437dd6c5af4777a976e1135c966736",
            "value": 69724
          }
        },
        "864e566919134883820cfd620e3f33d2": {
          "model_module": "@jupyter-widgets/controls",
          "model_name": "HTMLModel",
          "model_module_version": "1.5.0",
          "state": {
            "_dom_classes": [],
            "_model_module": "@jupyter-widgets/controls",
            "_model_module_version": "1.5.0",
            "_model_name": "HTMLModel",
            "_view_count": null,
            "_view_module": "@jupyter-widgets/controls",
            "_view_module_version": "1.5.0",
            "_view_name": "HTMLView",
            "description": "",
            "description_tooltip": null,
            "layout": "IPY_MODEL_2b20619b782248b587a8861d3d5e82e9",
            "placeholder": "​",
            "style": "IPY_MODEL_4d6045bb2de44b2c964bbff14fe816dd",
            "value": " 69.7k/69.7k [00:00&lt;00:00, 6.34MB/s]"
          }
        },
        "21df6a4ff0e744c9b710ca8fc7bc9252": {
          "model_module": "@jupyter-widgets/base",
          "model_name": "LayoutModel",
          "model_module_version": "1.2.0",
          "state": {
            "_model_module": "@jupyter-widgets/base",
            "_model_module_version": "1.2.0",
            "_model_name": "LayoutModel",
            "_view_count": null,
            "_view_module": "@jupyter-widgets/base",
            "_view_module_version": "1.2.0",
            "_view_name": "LayoutView",
            "align_content": null,
            "align_items": null,
            "align_self": null,
            "border": null,
            "bottom": null,
            "display": null,
            "flex": null,
            "flex_flow": null,
            "grid_area": null,
            "grid_auto_columns": null,
            "grid_auto_flow": null,
            "grid_auto_rows": null,
            "grid_column": null,
            "grid_gap": null,
            "grid_row": null,
            "grid_template_areas": null,
            "grid_template_columns": null,
            "grid_template_rows": null,
            "height": null,
            "justify_content": null,
            "justify_items": null,
            "left": null,
            "margin": null,
            "max_height": null,
            "max_width": null,
            "min_height": null,
            "min_width": null,
            "object_fit": null,
            "object_position": null,
            "order": null,
            "overflow": null,
            "overflow_x": null,
            "overflow_y": null,
            "padding": null,
            "right": null,
            "top": null,
            "visibility": null,
            "width": null
          }
        },
        "3320b1096439440ca4b2c3df9633bdbe": {
          "model_module": "@jupyter-widgets/base",
          "model_name": "LayoutModel",
          "model_module_version": "1.2.0",
          "state": {
            "_model_module": "@jupyter-widgets/base",
            "_model_module_version": "1.2.0",
            "_model_name": "LayoutModel",
            "_view_count": null,
            "_view_module": "@jupyter-widgets/base",
            "_view_module_version": "1.2.0",
            "_view_name": "LayoutView",
            "align_content": null,
            "align_items": null,
            "align_self": null,
            "border": null,
            "bottom": null,
            "display": null,
            "flex": null,
            "flex_flow": null,
            "grid_area": null,
            "grid_auto_columns": null,
            "grid_auto_flow": null,
            "grid_auto_rows": null,
            "grid_column": null,
            "grid_gap": null,
            "grid_row": null,
            "grid_template_areas": null,
            "grid_template_columns": null,
            "grid_template_rows": null,
            "height": null,
            "justify_content": null,
            "justify_items": null,
            "left": null,
            "margin": null,
            "max_height": null,
            "max_width": null,
            "min_height": null,
            "min_width": null,
            "object_fit": null,
            "object_position": null,
            "order": null,
            "overflow": null,
            "overflow_x": null,
            "overflow_y": null,
            "padding": null,
            "right": null,
            "top": null,
            "visibility": null,
            "width": null
          }
        },
        "6e2804f525884f03ab617b90acebf4ca": {
          "model_module": "@jupyter-widgets/controls",
          "model_name": "DescriptionStyleModel",
          "model_module_version": "1.5.0",
          "state": {
            "_model_module": "@jupyter-widgets/controls",
            "_model_module_version": "1.5.0",
            "_model_name": "DescriptionStyleModel",
            "_view_count": null,
            "_view_module": "@jupyter-widgets/base",
            "_view_module_version": "1.2.0",
            "_view_name": "StyleView",
            "description_width": ""
          }
        },
        "b67e3a405bf14418bebd30a891c5c721": {
          "model_module": "@jupyter-widgets/base",
          "model_name": "LayoutModel",
          "model_module_version": "1.2.0",
          "state": {
            "_model_module": "@jupyter-widgets/base",
            "_model_module_version": "1.2.0",
            "_model_name": "LayoutModel",
            "_view_count": null,
            "_view_module": "@jupyter-widgets/base",
            "_view_module_version": "1.2.0",
            "_view_name": "LayoutView",
            "align_content": null,
            "align_items": null,
            "align_self": null,
            "border": null,
            "bottom": null,
            "display": null,
            "flex": null,
            "flex_flow": null,
            "grid_area": null,
            "grid_auto_columns": null,
            "grid_auto_flow": null,
            "grid_auto_rows": null,
            "grid_column": null,
            "grid_gap": null,
            "grid_row": null,
            "grid_template_areas": null,
            "grid_template_columns": null,
            "grid_template_rows": null,
            "height": null,
            "justify_content": null,
            "justify_items": null,
            "left": null,
            "margin": null,
            "max_height": null,
            "max_width": null,
            "min_height": null,
            "min_width": null,
            "object_fit": null,
            "object_position": null,
            "order": null,
            "overflow": null,
            "overflow_x": null,
            "overflow_y": null,
            "padding": null,
            "right": null,
            "top": null,
            "visibility": null,
            "width": null
          }
        },
        "d4437dd6c5af4777a976e1135c966736": {
          "model_module": "@jupyter-widgets/controls",
          "model_name": "ProgressStyleModel",
          "model_module_version": "1.5.0",
          "state": {
            "_model_module": "@jupyter-widgets/controls",
            "_model_module_version": "1.5.0",
            "_model_name": "ProgressStyleModel",
            "_view_count": null,
            "_view_module": "@jupyter-widgets/base",
            "_view_module_version": "1.2.0",
            "_view_name": "StyleView",
            "bar_color": null,
            "description_width": ""
          }
        },
        "2b20619b782248b587a8861d3d5e82e9": {
          "model_module": "@jupyter-widgets/base",
          "model_name": "LayoutModel",
          "model_module_version": "1.2.0",
          "state": {
            "_model_module": "@jupyter-widgets/base",
            "_model_module_version": "1.2.0",
            "_model_name": "LayoutModel",
            "_view_count": null,
            "_view_module": "@jupyter-widgets/base",
            "_view_module_version": "1.2.0",
            "_view_name": "LayoutView",
            "align_content": null,
            "align_items": null,
            "align_self": null,
            "border": null,
            "bottom": null,
            "display": null,
            "flex": null,
            "flex_flow": null,
            "grid_area": null,
            "grid_auto_columns": null,
            "grid_auto_flow": null,
            "grid_auto_rows": null,
            "grid_column": null,
            "grid_gap": null,
            "grid_row": null,
            "grid_template_areas": null,
            "grid_template_columns": null,
            "grid_template_rows": null,
            "height": null,
            "justify_content": null,
            "justify_items": null,
            "left": null,
            "margin": null,
            "max_height": null,
            "max_width": null,
            "min_height": null,
            "min_width": null,
            "object_fit": null,
            "object_position": null,
            "order": null,
            "overflow": null,
            "overflow_x": null,
            "overflow_y": null,
            "padding": null,
            "right": null,
            "top": null,
            "visibility": null,
            "width": null
          }
        },
        "4d6045bb2de44b2c964bbff14fe816dd": {
          "model_module": "@jupyter-widgets/controls",
          "model_name": "DescriptionStyleModel",
          "model_module_version": "1.5.0",
          "state": {
            "_model_module": "@jupyter-widgets/controls",
            "_model_module_version": "1.5.0",
            "_model_name": "DescriptionStyleModel",
            "_view_count": null,
            "_view_module": "@jupyter-widgets/base",
            "_view_module_version": "1.2.0",
            "_view_name": "StyleView",
            "description_width": ""
          }
        },
        "9e68bb65d36e4aa89304108eb387066c": {
          "model_module": "@jupyter-widgets/controls",
          "model_name": "HBoxModel",
          "model_module_version": "1.5.0",
          "state": {
            "_dom_classes": [],
            "_model_module": "@jupyter-widgets/controls",
            "_model_module_version": "1.5.0",
            "_model_name": "HBoxModel",
            "_view_count": null,
            "_view_module": "@jupyter-widgets/controls",
            "_view_module_version": "1.5.0",
            "_view_name": "HBoxView",
            "box_style": "",
            "children": [
              "IPY_MODEL_df5aca5155ef44c98b7e9c43f4fd2cc0",
              "IPY_MODEL_6f681a98bc2a4b14bb7e860c7872182e",
              "IPY_MODEL_bacffa0a8515475e8778e369c24ac1f1"
            ],
            "layout": "IPY_MODEL_a75e9a64e1b344f0866c80948a2fdd60"
          }
        },
        "df5aca5155ef44c98b7e9c43f4fd2cc0": {
          "model_module": "@jupyter-widgets/controls",
          "model_name": "HTMLModel",
          "model_module_version": "1.5.0",
          "state": {
            "_dom_classes": [],
            "_model_module": "@jupyter-widgets/controls",
            "_model_module_version": "1.5.0",
            "_model_name": "HTMLModel",
            "_view_count": null,
            "_view_module": "@jupyter-widgets/controls",
            "_view_module_version": "1.5.0",
            "_view_name": "HTMLView",
            "description": "",
            "description_tooltip": null,
            "layout": "IPY_MODEL_66b05af64f4f43988d6931cbc354e5a6",
            "placeholder": "​",
            "style": "IPY_MODEL_d98be01f7ff6453887e60e00a803f30c",
            "value": "model.safetensors: 100%"
          }
        },
        "6f681a98bc2a4b14bb7e860c7872182e": {
          "model_module": "@jupyter-widgets/controls",
          "model_name": "FloatProgressModel",
          "model_module_version": "1.5.0",
          "state": {
            "_dom_classes": [],
            "_model_module": "@jupyter-widgets/controls",
            "_model_module_version": "1.5.0",
            "_model_name": "FloatProgressModel",
            "_view_count": null,
            "_view_module": "@jupyter-widgets/controls",
            "_view_module_version": "1.5.0",
            "_view_name": "ProgressView",
            "bar_style": "success",
            "description": "",
            "description_tooltip": null,
            "layout": "IPY_MODEL_74c5508090614e5ea261947688ee9b68",
            "max": 114565784,
            "min": 0,
            "orientation": "horizontal",
            "style": "IPY_MODEL_7c4673d8509842958c4bbeb30b81b55b",
            "value": 114565784
          }
        },
        "bacffa0a8515475e8778e369c24ac1f1": {
          "model_module": "@jupyter-widgets/controls",
          "model_name": "HTMLModel",
          "model_module_version": "1.5.0",
          "state": {
            "_dom_classes": [],
            "_model_module": "@jupyter-widgets/controls",
            "_model_module_version": "1.5.0",
            "_model_name": "HTMLModel",
            "_view_count": null,
            "_view_module": "@jupyter-widgets/controls",
            "_view_module_version": "1.5.0",
            "_view_name": "HTMLView",
            "description": "",
            "description_tooltip": null,
            "layout": "IPY_MODEL_2475db4dc0664712828eb012a0b44531",
            "placeholder": "​",
            "style": "IPY_MODEL_56c2a0808c53461e9b51a603998d644c",
            "value": " 115M/115M [00:00&lt;00:00, 281MB/s]"
          }
        },
        "a75e9a64e1b344f0866c80948a2fdd60": {
          "model_module": "@jupyter-widgets/base",
          "model_name": "LayoutModel",
          "model_module_version": "1.2.0",
          "state": {
            "_model_module": "@jupyter-widgets/base",
            "_model_module_version": "1.2.0",
            "_model_name": "LayoutModel",
            "_view_count": null,
            "_view_module": "@jupyter-widgets/base",
            "_view_module_version": "1.2.0",
            "_view_name": "LayoutView",
            "align_content": null,
            "align_items": null,
            "align_self": null,
            "border": null,
            "bottom": null,
            "display": null,
            "flex": null,
            "flex_flow": null,
            "grid_area": null,
            "grid_auto_columns": null,
            "grid_auto_flow": null,
            "grid_auto_rows": null,
            "grid_column": null,
            "grid_gap": null,
            "grid_row": null,
            "grid_template_areas": null,
            "grid_template_columns": null,
            "grid_template_rows": null,
            "height": null,
            "justify_content": null,
            "justify_items": null,
            "left": null,
            "margin": null,
            "max_height": null,
            "max_width": null,
            "min_height": null,
            "min_width": null,
            "object_fit": null,
            "object_position": null,
            "order": null,
            "overflow": null,
            "overflow_x": null,
            "overflow_y": null,
            "padding": null,
            "right": null,
            "top": null,
            "visibility": null,
            "width": null
          }
        },
        "66b05af64f4f43988d6931cbc354e5a6": {
          "model_module": "@jupyter-widgets/base",
          "model_name": "LayoutModel",
          "model_module_version": "1.2.0",
          "state": {
            "_model_module": "@jupyter-widgets/base",
            "_model_module_version": "1.2.0",
            "_model_name": "LayoutModel",
            "_view_count": null,
            "_view_module": "@jupyter-widgets/base",
            "_view_module_version": "1.2.0",
            "_view_name": "LayoutView",
            "align_content": null,
            "align_items": null,
            "align_self": null,
            "border": null,
            "bottom": null,
            "display": null,
            "flex": null,
            "flex_flow": null,
            "grid_area": null,
            "grid_auto_columns": null,
            "grid_auto_flow": null,
            "grid_auto_rows": null,
            "grid_column": null,
            "grid_gap": null,
            "grid_row": null,
            "grid_template_areas": null,
            "grid_template_columns": null,
            "grid_template_rows": null,
            "height": null,
            "justify_content": null,
            "justify_items": null,
            "left": null,
            "margin": null,
            "max_height": null,
            "max_width": null,
            "min_height": null,
            "min_width": null,
            "object_fit": null,
            "object_position": null,
            "order": null,
            "overflow": null,
            "overflow_x": null,
            "overflow_y": null,
            "padding": null,
            "right": null,
            "top": null,
            "visibility": null,
            "width": null
          }
        },
        "d98be01f7ff6453887e60e00a803f30c": {
          "model_module": "@jupyter-widgets/controls",
          "model_name": "DescriptionStyleModel",
          "model_module_version": "1.5.0",
          "state": {
            "_model_module": "@jupyter-widgets/controls",
            "_model_module_version": "1.5.0",
            "_model_name": "DescriptionStyleModel",
            "_view_count": null,
            "_view_module": "@jupyter-widgets/base",
            "_view_module_version": "1.2.0",
            "_view_name": "StyleView",
            "description_width": ""
          }
        },
        "74c5508090614e5ea261947688ee9b68": {
          "model_module": "@jupyter-widgets/base",
          "model_name": "LayoutModel",
          "model_module_version": "1.2.0",
          "state": {
            "_model_module": "@jupyter-widgets/base",
            "_model_module_version": "1.2.0",
            "_model_name": "LayoutModel",
            "_view_count": null,
            "_view_module": "@jupyter-widgets/base",
            "_view_module_version": "1.2.0",
            "_view_name": "LayoutView",
            "align_content": null,
            "align_items": null,
            "align_self": null,
            "border": null,
            "bottom": null,
            "display": null,
            "flex": null,
            "flex_flow": null,
            "grid_area": null,
            "grid_auto_columns": null,
            "grid_auto_flow": null,
            "grid_auto_rows": null,
            "grid_column": null,
            "grid_gap": null,
            "grid_row": null,
            "grid_template_areas": null,
            "grid_template_columns": null,
            "grid_template_rows": null,
            "height": null,
            "justify_content": null,
            "justify_items": null,
            "left": null,
            "margin": null,
            "max_height": null,
            "max_width": null,
            "min_height": null,
            "min_width": null,
            "object_fit": null,
            "object_position": null,
            "order": null,
            "overflow": null,
            "overflow_x": null,
            "overflow_y": null,
            "padding": null,
            "right": null,
            "top": null,
            "visibility": null,
            "width": null
          }
        },
        "7c4673d8509842958c4bbeb30b81b55b": {
          "model_module": "@jupyter-widgets/controls",
          "model_name": "ProgressStyleModel",
          "model_module_version": "1.5.0",
          "state": {
            "_model_module": "@jupyter-widgets/controls",
            "_model_module_version": "1.5.0",
            "_model_name": "ProgressStyleModel",
            "_view_count": null,
            "_view_module": "@jupyter-widgets/base",
            "_view_module_version": "1.2.0",
            "_view_name": "StyleView",
            "bar_color": null,
            "description_width": ""
          }
        },
        "2475db4dc0664712828eb012a0b44531": {
          "model_module": "@jupyter-widgets/base",
          "model_name": "LayoutModel",
          "model_module_version": "1.2.0",
          "state": {
            "_model_module": "@jupyter-widgets/base",
            "_model_module_version": "1.2.0",
            "_model_name": "LayoutModel",
            "_view_count": null,
            "_view_module": "@jupyter-widgets/base",
            "_view_module_version": "1.2.0",
            "_view_name": "LayoutView",
            "align_content": null,
            "align_items": null,
            "align_self": null,
            "border": null,
            "bottom": null,
            "display": null,
            "flex": null,
            "flex_flow": null,
            "grid_area": null,
            "grid_auto_columns": null,
            "grid_auto_flow": null,
            "grid_auto_rows": null,
            "grid_column": null,
            "grid_gap": null,
            "grid_row": null,
            "grid_template_areas": null,
            "grid_template_columns": null,
            "grid_template_rows": null,
            "height": null,
            "justify_content": null,
            "justify_items": null,
            "left": null,
            "margin": null,
            "max_height": null,
            "max_width": null,
            "min_height": null,
            "min_width": null,
            "object_fit": null,
            "object_position": null,
            "order": null,
            "overflow": null,
            "overflow_x": null,
            "overflow_y": null,
            "padding": null,
            "right": null,
            "top": null,
            "visibility": null,
            "width": null
          }
        },
        "56c2a0808c53461e9b51a603998d644c": {
          "model_module": "@jupyter-widgets/controls",
          "model_name": "DescriptionStyleModel",
          "model_module_version": "1.5.0",
          "state": {
            "_model_module": "@jupyter-widgets/controls",
            "_model_module_version": "1.5.0",
            "_model_name": "DescriptionStyleModel",
            "_view_count": null,
            "_view_module": "@jupyter-widgets/base",
            "_view_module_version": "1.2.0",
            "_view_name": "StyleView",
            "description_width": ""
          }
        }
      }
    }
  },
  "nbformat": 4,
  "nbformat_minor": 0
}